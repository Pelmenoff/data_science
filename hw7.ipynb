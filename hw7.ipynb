{
  "cells": [
    {
      "cell_type": "markdown",
      "metadata": {
        "id": "view-in-github",
        "colab_type": "text"
      },
      "source": [
        "<a href=\"https://colab.research.google.com/github/Pelmenoff/data_science/blob/main/hw7.ipynb\" target=\"_parent\"><img src=\"https://colab.research.google.com/assets/colab-badge.svg\" alt=\"Open In Colab\"/></a>"
      ]
    },
    {
      "cell_type": "code",
      "execution_count": 2,
      "metadata": {
        "colab": {
          "base_uri": "https://localhost:8080/"
        },
        "id": "pCwaO5PxnpLk",
        "outputId": "c1c364ca-ee51-4ea6-caee-bced40a22550"
      },
      "outputs": [
        {
          "output_type": "stream",
          "name": "stdout",
          "text": [
            "Requirement already satisfied: surprise in /usr/local/lib/python3.10/dist-packages (0.1)\n",
            "Requirement already satisfied: scikit-surprise in /usr/local/lib/python3.10/dist-packages (from surprise) (1.1.4)\n",
            "Requirement already satisfied: joblib>=1.2.0 in /usr/local/lib/python3.10/dist-packages (from scikit-surprise->surprise) (1.4.2)\n",
            "Requirement already satisfied: numpy>=1.19.5 in /usr/local/lib/python3.10/dist-packages (from scikit-surprise->surprise) (1.25.2)\n",
            "Requirement already satisfied: scipy>=1.6.0 in /usr/local/lib/python3.10/dist-packages (from scikit-surprise->surprise) (1.11.4)\n"
          ]
        }
      ],
      "source": [
        "!pip install surprise\n",
        "\n",
        "from surprise import Dataset, Reader, SVD, SVDpp, NMF, accuracy\n",
        "from surprise.model_selection import train_test_split, GridSearchCV\n",
        "\n",
        "data = Dataset.load_builtin('ml-100k')\n",
        "\n",
        "trainset, testset = train_test_split(data, test_size=0.3)"
      ]
    },
    {
      "cell_type": "code",
      "execution_count": 4,
      "metadata": {
        "id": "WcZhAZ12DiQu",
        "colab": {
          "base_uri": "https://localhost:8080/"
        },
        "outputId": "db0401cd-fd22-4a1f-ba3f-8efa19343aef"
      },
      "outputs": [
        {
          "output_type": "stream",
          "name": "stdout",
          "text": [
            "Best parameters for SVD: {'n_factors': 200, 'n_epochs': 70, 'lr_all': 0.008, 'reg_all': 0.1}\n"
          ]
        }
      ],
      "source": [
        "param_grid = {\n",
        "    'n_factors': [120, 130, 150, 170, 180, 200],\n",
        "    'n_epochs': [40, 50, 60, 70, 80],\n",
        "    'lr_all': [0.008, 0.01, 0.012, 0.015],\n",
        "    'reg_all': [0.05, 0.1, 0.15]\n",
        "}\n",
        "\n",
        "gs = GridSearchCV(SVD, param_grid, measures=['rmse'], cv=5)\n",
        "gs.fit(data)\n",
        "\n",
        "best_params_svd = gs.best_params['rmse']\n",
        "print(\"Best parameters for SVD:\", best_params_svd)"
      ]
    },
    {
      "cell_type": "code",
      "execution_count": 13,
      "metadata": {
        "id": "kzUH_mKzol2u",
        "colab": {
          "base_uri": "https://localhost:8080/"
        },
        "outputId": "40461768-937d-4192-8eaa-ccb21d06ec4e"
      },
      "outputs": [
        {
          "output_type": "execute_result",
          "data": {
            "text/plain": [
              "<surprise.prediction_algorithms.matrix_factorization.NMF at 0x7aa09dc919f0>"
            ]
          },
          "metadata": {},
          "execution_count": 13
        }
      ],
      "source": [
        "# Модель SVD\n",
        "best_svd = gs.best_estimator['rmse']\n",
        "best_svd.fit(trainset)\n",
        "\n",
        "# Модель SVD++\n",
        "svdpp = SVDpp()\n",
        "svdpp.fit(trainset)\n",
        "\n",
        "# Модель NMF\n",
        "nmf = NMF()\n",
        "nmf.fit(trainset)"
      ]
    },
    {
      "cell_type": "code",
      "execution_count": 15,
      "metadata": {
        "id": "e-3Awyq-opXL",
        "colab": {
          "base_uri": "https://localhost:8080/"
        },
        "outputId": "9bd0227f-c8c2-47a4-a5d2-1b62ae8fa71c"
      },
      "outputs": [
        {
          "output_type": "stream",
          "name": "stdout",
          "text": [
            "RMSE: 0.9130\n",
            "SVD RMSE: 0.913019746626501\n",
            "RMSE: 0.9197\n",
            "SVD++ RMSE: 0.9196808606229397\n",
            "RMSE: 0.9725\n",
            "NMF RMSE: 0.9725098190082501\n"
          ]
        }
      ],
      "source": [
        "# SVD accuracy\n",
        "predictions_svd = best_svd.test(testset)\n",
        "rmse_svd = accuracy.rmse(predictions_svd)\n",
        "print(f\"SVD RMSE: {rmse_svd}\")\n",
        "\n",
        "# SVD++ accuracy\n",
        "predictions_svdpp = svdpp.test(testset)\n",
        "rmse_svdpp = accuracy.rmse(predictions_svdpp)\n",
        "print(f\"SVD++ RMSE: {rmse_svdpp}\")\n",
        "\n",
        "# NMF accuracy\n",
        "predictions_nmf = nmf.test(testset)\n",
        "rmse_nmf = accuracy.rmse(predictions_nmf)\n",
        "print(f\"NMF RMSE: {rmse_nmf}\")"
      ]
    }
  ],
  "metadata": {
    "colab": {
      "provenance": [],
      "authorship_tag": "ABX9TyMMmDAMy2fM1z0UiQxDbZPx",
      "include_colab_link": true
    },
    "kernelspec": {
      "display_name": "Python 3",
      "name": "python3"
    },
    "language_info": {
      "name": "python"
    }
  },
  "nbformat": 4,
  "nbformat_minor": 0
}
