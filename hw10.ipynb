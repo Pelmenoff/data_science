{
  "cells": [
    {
      "cell_type": "markdown",
      "metadata": {
        "id": "view-in-github",
        "colab_type": "text"
      },
      "source": [
        "<a href=\"https://colab.research.google.com/github/Pelmenoff/data_science/blob/main/hw10.ipynb\" target=\"_parent\"><img src=\"https://colab.research.google.com/assets/colab-badge.svg\" alt=\"Open In Colab\"/></a>"
      ]
    },
    {
      "cell_type": "code",
      "execution_count": null,
      "metadata": {
        "id": "BPMgjWioIbxg"
      },
      "outputs": [],
      "source": [
        "import numpy as np\n",
        "import tensorflow as tf\n",
        "from sklearn.model_selection import train_test_split\n",
        "from tensorflow.keras.datasets import fashion_mnist\n",
        "from tensorflow.keras.utils import to_categorical\n",
        "from tensorflow.keras.models import Sequential\n",
        "from tensorflow.keras.layers import Conv2D, MaxPooling2D, Flatten, Dense\n",
        "from tensorflow.keras.optimizers import Adam, Nadam\n",
        "from tensorflow.keras.callbacks import EarlyStopping, ReduceLROnPlateau"
      ]
    },
    {
      "cell_type": "code",
      "execution_count": null,
      "metadata": {
        "colab": {
          "base_uri": "https://localhost:8080/"
        },
        "id": "1Kmlppa5W3U1",
        "outputId": "881f6ebb-1898-4eda-c518-2644657a4583"
      },
      "outputs": [
        {
          "output_type": "stream",
          "name": "stdout",
          "text": [
            "Train data size (42000, 28, 28)\n",
            "Test data size (12000, 28, 28)\n",
            "Validation data size (6000, 28, 28)\n"
          ]
        }
      ],
      "source": [
        "# Завантаження даних\n",
        "(x, y), _ = fashion_mnist.load_data()\n",
        "\n",
        "# Спочатку розділяємо дані на 70% тренувальні і 30% для тестування та валідації\n",
        "x_train, x_test_raw, y_train, y_test_raw = train_test_split(x, y, train_size=0.7, random_state=555)\n",
        "\n",
        "# Тепер розділимо ці 30% на 20% для тесту і 15% для валідації\n",
        "# 20% від загального числа = 20/30 частини від x_test_raw та y_test_raw\n",
        "test_size = 20 / 30\n",
        "x_val, x_test, y_val, y_test = train_test_split(x_test_raw, y_test_raw, test_size=test_size, random_state=555)\n",
        "\n",
        "print(\"Train data size\", x_train.shape)\n",
        "print(\"Test data size\", x_test.shape)\n",
        "print(\"Validation data size\", x_val.shape)\n",
        "\n",
        "# Масштабування зображень до діапазону [0, 1]\n",
        "x_train = x_train.astype('float32') / 255.0\n",
        "x_val = x_val.astype('float32') / 255.0\n",
        "x_test = x_test.astype('float32') / 255.0\n",
        "\n",
        "# Розширення розмірності (додавання каналу)\n",
        "x_train = np.expand_dims(x_train, -1)\n",
        "x_val = np.expand_dims(x_val, -1)\n",
        "x_test = np.expand_dims(x_test, -1)\n",
        "\n",
        "# One-hot кодування міток\n",
        "y_train = to_categorical(y_train, 10)\n",
        "y_val = to_categorical(y_val, 10)\n",
        "y_test = to_categorical(y_test, 10)"
      ]
    },
    {
      "cell_type": "code",
      "execution_count": null,
      "metadata": {
        "id": "MacL99doW96v"
      },
      "outputs": [],
      "source": [
        "model = Sequential()\n",
        "\n",
        "# Перший згортковий шар\n",
        "model.add(Conv2D(128, (3, 3), activation='relu', input_shape=(28, 28, 1)))\n",
        "model.add(MaxPooling2D((2, 2)))\n",
        "\n",
        "# Другий згортковий шар\n",
        "model.add(Conv2D(256, (3, 3), activation='relu'))\n",
        "model.add(MaxPooling2D((2, 2)))\n",
        "\n",
        "# Перетворення даних в одновимірний вектор\n",
        "model.add(Flatten())\n",
        "\n",
        "# Перший повнозв'язний шар\n",
        "model.add(Dense(256, activation='relu'))\n",
        "\n",
        "# Вихідний шар\n",
        "model.add(Dense(10, activation='softmax'))"
      ]
    },
    {
      "cell_type": "code",
      "execution_count": null,
      "metadata": {
        "colab": {
          "base_uri": "https://localhost:8080/"
        },
        "id": "ZDrwLpeQVcw-",
        "outputId": "298793fd-835f-49de-938e-bfcd38825f24"
      },
      "outputs": [
        {
          "output_type": "stream",
          "name": "stdout",
          "text": [
            "Model: \"sequential\"\n",
            "_________________________________________________________________\n",
            " Layer (type)                Output Shape              Param #   \n",
            "=================================================================\n",
            " conv2d (Conv2D)             (None, 26, 26, 128)       1280      \n",
            "                                                                 \n",
            " max_pooling2d (MaxPooling2  (None, 13, 13, 128)       0         \n",
            " D)                                                              \n",
            "                                                                 \n",
            " conv2d_1 (Conv2D)           (None, 11, 11, 256)       295168    \n",
            "                                                                 \n",
            " max_pooling2d_1 (MaxPoolin  (None, 5, 5, 256)         0         \n",
            " g2D)                                                            \n",
            "                                                                 \n",
            " flatten (Flatten)           (None, 6400)              0         \n",
            "                                                                 \n",
            " dense (Dense)               (None, 256)               1638656   \n",
            "                                                                 \n",
            " dense_1 (Dense)             (None, 10)                2570      \n",
            "                                                                 \n",
            "=================================================================\n",
            "Total params: 1937674 (7.39 MB)\n",
            "Trainable params: 1937674 (7.39 MB)\n",
            "Non-trainable params: 0 (0.00 Byte)\n",
            "_________________________________________________________________\n"
          ]
        }
      ],
      "source": [
        "model.summary()"
      ]
    },
    {
      "cell_type": "code",
      "execution_count": null,
      "metadata": {
        "id": "ZDqWQP0FXD6g"
      },
      "outputs": [],
      "source": [
        "# Компільовання моделі\n",
        "model.compile(optimizer='Adam',\n",
        "              loss='categorical_crossentropy',\n",
        "              metrics=['accuracy'])\n",
        "\n",
        "# Early Stopping\n",
        "early_stopping = EarlyStopping(monitor='val_loss', patience=10, restore_best_weights=True)\n",
        "reduce_lr = ReduceLROnPlateau(monitor='val_loss', factor=0.2, patience=5, min_lr=0.00001)"
      ]
    },
    {
      "cell_type": "code",
      "execution_count": null,
      "metadata": {
        "colab": {
          "base_uri": "https://localhost:8080/"
        },
        "id": "8ybRd9dtXJ3y",
        "outputId": "e748f582-c43a-45b0-ae80-4d080ce5ca9c"
      },
      "outputs": [
        {
          "output_type": "stream",
          "name": "stdout",
          "text": [
            "Epoch 1/50\n",
            "657/657 [==============================] - 231s 349ms/step - loss: 0.4644 - accuracy: 0.8297 - val_loss: 0.3239 - val_accuracy: 0.8797 - lr: 0.0010\n",
            "Epoch 2/50\n",
            "657/657 [==============================] - 224s 340ms/step - loss: 0.3042 - accuracy: 0.8871 - val_loss: 0.2789 - val_accuracy: 0.8962 - lr: 0.0010\n",
            "Epoch 3/50\n",
            "657/657 [==============================] - 223s 339ms/step - loss: 0.2489 - accuracy: 0.9075 - val_loss: 0.2921 - val_accuracy: 0.8943 - lr: 0.0010\n",
            "Epoch 4/50\n",
            "657/657 [==============================] - 223s 339ms/step - loss: 0.2129 - accuracy: 0.9208 - val_loss: 0.2511 - val_accuracy: 0.9105 - lr: 0.0010\n",
            "Epoch 5/50\n",
            "657/657 [==============================] - 223s 340ms/step - loss: 0.1793 - accuracy: 0.9325 - val_loss: 0.2337 - val_accuracy: 0.9150 - lr: 0.0010\n",
            "Epoch 6/50\n",
            "657/657 [==============================] - 218s 332ms/step - loss: 0.1520 - accuracy: 0.9421 - val_loss: 0.2555 - val_accuracy: 0.9107 - lr: 0.0010\n",
            "Epoch 7/50\n",
            "657/657 [==============================] - 219s 334ms/step - loss: 0.1262 - accuracy: 0.9534 - val_loss: 0.2568 - val_accuracy: 0.9155 - lr: 0.0010\n",
            "Epoch 8/50\n",
            "657/657 [==============================] - 218s 332ms/step - loss: 0.1051 - accuracy: 0.9606 - val_loss: 0.2641 - val_accuracy: 0.9178 - lr: 0.0010\n",
            "Epoch 9/50\n",
            "657/657 [==============================] - 221s 336ms/step - loss: 0.0842 - accuracy: 0.9685 - val_loss: 0.2914 - val_accuracy: 0.9193 - lr: 0.0010\n",
            "Epoch 10/50\n",
            "657/657 [==============================] - 223s 339ms/step - loss: 0.0707 - accuracy: 0.9734 - val_loss: 0.2870 - val_accuracy: 0.9175 - lr: 0.0010\n",
            "Epoch 11/50\n",
            "657/657 [==============================] - 220s 334ms/step - loss: 0.0277 - accuracy: 0.9910 - val_loss: 0.3113 - val_accuracy: 0.9245 - lr: 2.0000e-04\n",
            "Epoch 12/50\n",
            "657/657 [==============================] - 220s 334ms/step - loss: 0.0176 - accuracy: 0.9953 - val_loss: 0.3252 - val_accuracy: 0.9230 - lr: 2.0000e-04\n",
            "Epoch 13/50\n",
            "657/657 [==============================] - 221s 337ms/step - loss: 0.0137 - accuracy: 0.9966 - val_loss: 0.3644 - val_accuracy: 0.9227 - lr: 2.0000e-04\n",
            "Epoch 14/50\n",
            "657/657 [==============================] - 222s 337ms/step - loss: 0.0109 - accuracy: 0.9973 - val_loss: 0.3682 - val_accuracy: 0.9243 - lr: 2.0000e-04\n",
            "Epoch 15/50\n",
            "657/657 [==============================] - 225s 343ms/step - loss: 0.0080 - accuracy: 0.9986 - val_loss: 0.3898 - val_accuracy: 0.9262 - lr: 2.0000e-04\n"
          ]
        }
      ],
      "source": [
        "# Тренування моделі\n",
        "history = model.fit(x_train, y_train, batch_size=64,\n",
        "                    epochs=50, validation_data=(x_val, y_val), callbacks=[early_stopping, reduce_lr])"
      ]
    },
    {
      "cell_type": "code",
      "execution_count": null,
      "metadata": {
        "colab": {
          "base_uri": "https://localhost:8080/"
        },
        "id": "oT40Z9ufXOQ6",
        "outputId": "607f1240-a5e8-4367-ef53-f550d094bf5f"
      },
      "outputs": [
        {
          "output_type": "stream",
          "name": "stdout",
          "text": [
            "375/375 [==============================] - 17s 46ms/step - loss: 0.2390 - accuracy: 0.9155\n",
            "Test loss: 0.23901939392089844, accuracy: 0.9154999852180481\n"
          ]
        }
      ],
      "source": [
        "# Оцінка моделі\n",
        "test_loss, test_acc = model.evaluate(x_test, y_test)\n",
        "print(f'Test loss: {test_loss}, accuracy: {test_acc}')"
      ]
    }
  ],
  "metadata": {
    "colab": {
      "provenance": [],
      "authorship_tag": "ABX9TyMBS4G6IYxrr7Qr5Ma0MY53",
      "include_colab_link": true
    },
    "kernelspec": {
      "display_name": "Python 3",
      "name": "python3"
    },
    "language_info": {
      "name": "python"
    }
  },
  "nbformat": 4,
  "nbformat_minor": 0
}