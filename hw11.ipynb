{
  "nbformat": 4,
  "nbformat_minor": 0,
  "metadata": {
    "colab": {
      "provenance": [],
      "authorship_tag": "ABX9TyO4/IWZnrDvTUqqkv1fHXs/",
      "include_colab_link": true
    },
    "kernelspec": {
      "name": "python3",
      "display_name": "Python 3"
    },
    "language_info": {
      "name": "python"
    }
  },
  "cells": [
    {
      "cell_type": "markdown",
      "metadata": {
        "id": "view-in-github",
        "colab_type": "text"
      },
      "source": [
        "<a href=\"https://colab.research.google.com/github/Pelmenoff/data_science/blob/main/hw11.ipynb\" target=\"_parent\"><img src=\"https://colab.research.google.com/assets/colab-badge.svg\" alt=\"Open In Colab\"/></a>"
      ]
    },
    {
      "cell_type": "code",
      "source": [
        "# Importing the necessary libraries\n",
        "import numpy as np\n",
        "from keras.datasets import imdb\n",
        "from keras.preprocessing import sequence\n",
        "from keras.models import Sequential\n",
        "from keras.layers import Embedding, SimpleRNN, LSTM, Bidirectional, Dense, Dropout\n",
        "from sklearn.model_selection import train_test_split\n",
        "from tensorflow.keras.callbacks import EarlyStopping, ReduceLROnPlateau\n",
        "\n",
        "# Setting random seed for reproducibility\n",
        "np.random.seed(5050)\n",
        "\n",
        "# Loading the dataset\n",
        "max_features = 20000  # Number of words to consider as features\n",
        "maxlen = 100  # Cut texts after this number of words (among top max_features most common words)\n",
        "batch_size = 32\n",
        "\n",
        "# Load the data\n",
        "print('Loading data...')\n",
        "(x_data, y_data), (_, _) = imdb.load_data(num_words=max_features)\n",
        "print(len(x_data), 'total sequences')\n",
        "\n",
        "print('Pad sequences (samples x time)')\n",
        "x_data = sequence.pad_sequences(x_data, maxlen=maxlen)\n",
        "print('x_data shape:', x_data.shape)\n",
        "\n",
        "# Split data into training, validation, and test sets\n",
        "x_temp, x_test, y_temp, y_test = train_test_split(x_data, y_data, test_size=0.15, random_state=42)\n",
        "x_train, x_val, y_train, y_val = train_test_split(x_temp, y_temp, test_size=0.1765, random_state=42)  # 0.1765 * 0.85 ≈ 0.15\n",
        "\n",
        "print('x_train shape:', x_train.shape)\n",
        "print('x_val shape:', x_val.shape)\n",
        "print('x_test shape:', x_test.shape)"
      ],
      "metadata": {
        "colab": {
          "base_uri": "https://localhost:8080/"
        },
        "id": "Hq47iH2eP_eN",
        "outputId": "845a74ff-ed42-4f80-fd3d-00a8db7355a7"
      },
      "execution_count": null,
      "outputs": [
        {
          "output_type": "stream",
          "name": "stdout",
          "text": [
            "Loading data...\n",
            "25000 total sequences\n",
            "Pad sequences (samples x time)\n",
            "x_data shape: (25000, 100)\n",
            "x_train shape: (17499, 100)\n",
            "x_val shape: (3751, 100)\n",
            "x_test shape: (3750, 100)\n"
          ]
        }
      ]
    },
    {
      "cell_type": "code",
      "execution_count": null,
      "metadata": {
        "colab": {
          "base_uri": "https://localhost:8080/"
        },
        "id": "AYKgcHBRPG9N",
        "outputId": "26cafcae-6377-43d6-ab4f-819d9b63a805"
      },
      "outputs": [
        {
          "output_type": "stream",
          "name": "stdout",
          "text": [
            "Loading data...\n",
            "25000 total sequences\n",
            "Pad sequences (samples x time)\n",
            "x_data shape: (25000, 100)\n",
            "x_train shape: (17499, 100)\n",
            "x_val shape: (3751, 100)\n",
            "x_test shape: (3750, 100)\n",
            "Building Simple RNN model...\n",
            "Training Simple RNN model...\n",
            "Epoch 1/10\n",
            "547/547 [==============================] - 60s 107ms/step - loss: 0.6152 - accuracy: 0.6392 - val_loss: 0.5263 - val_accuracy: 0.7438\n",
            "Epoch 2/10\n",
            "547/547 [==============================] - 57s 105ms/step - loss: 0.4888 - accuracy: 0.7721 - val_loss: 0.5981 - val_accuracy: 0.6820\n",
            "Epoch 3/10\n",
            "547/547 [==============================] - 59s 108ms/step - loss: 0.4872 - accuracy: 0.7786 - val_loss: 0.5333 - val_accuracy: 0.7593\n",
            "Epoch 4/10\n",
            "547/547 [==============================] - 57s 103ms/step - loss: 0.3539 - accuracy: 0.8519 - val_loss: 0.5022 - val_accuracy: 0.7931\n",
            "Epoch 5/10\n",
            "547/547 [==============================] - 54s 99ms/step - loss: 0.3367 - accuracy: 0.8632 - val_loss: 0.5462 - val_accuracy: 0.7497\n",
            "Epoch 6/10\n",
            "547/547 [==============================] - 54s 98ms/step - loss: 0.2505 - accuracy: 0.9039 - val_loss: 0.5270 - val_accuracy: 0.7963\n",
            "Epoch 7/10\n",
            "547/547 [==============================] - 52s 96ms/step - loss: 0.2298 - accuracy: 0.9159 - val_loss: 0.5679 - val_accuracy: 0.7838\n",
            "Epoch 8/10\n",
            "547/547 [==============================] - 56s 102ms/step - loss: 0.2569 - accuracy: 0.9077 - val_loss: 0.5598 - val_accuracy: 0.7913\n",
            "Epoch 9/10\n",
            "547/547 [==============================] - 53s 96ms/step - loss: 0.2811 - accuracy: 0.8840 - val_loss: 0.6626 - val_accuracy: 0.7638\n",
            "Epoch 10/10\n",
            "547/547 [==============================] - 52s 94ms/step - loss: 0.1975 - accuracy: 0.9287 - val_loss: 0.6417 - val_accuracy: 0.7555\n",
            "Building LSTM model...\n",
            "Training LSTM model...\n",
            "Epoch 1/10\n",
            "547/547 [==============================] - 146s 260ms/step - loss: 0.4462 - accuracy: 0.7870 - val_loss: 0.3648 - val_accuracy: 0.8411\n",
            "Epoch 2/10\n",
            "547/547 [==============================] - 144s 264ms/step - loss: 0.2354 - accuracy: 0.9085 - val_loss: 0.3739 - val_accuracy: 0.8448\n",
            "Epoch 3/10\n",
            "547/547 [==============================] - 145s 265ms/step - loss: 0.1372 - accuracy: 0.9511 - val_loss: 0.4450 - val_accuracy: 0.8371\n",
            "Epoch 4/10\n",
            "547/547 [==============================] - 140s 256ms/step - loss: 0.0853 - accuracy: 0.9695 - val_loss: 0.5202 - val_accuracy: 0.8320\n",
            "Epoch 5/10\n",
            "547/547 [==============================] - 140s 256ms/step - loss: 0.0698 - accuracy: 0.9754 - val_loss: 0.5957 - val_accuracy: 0.8272\n",
            "Epoch 6/10\n",
            "547/547 [==============================] - 142s 260ms/step - loss: 0.0447 - accuracy: 0.9859 - val_loss: 0.7053 - val_accuracy: 0.8342\n",
            "Epoch 7/10\n",
            "547/547 [==============================] - 149s 272ms/step - loss: 0.0296 - accuracy: 0.9910 - val_loss: 0.7123 - val_accuracy: 0.8352\n",
            "Epoch 8/10\n",
            "547/547 [==============================] - 140s 256ms/step - loss: 0.0213 - accuracy: 0.9935 - val_loss: 0.7804 - val_accuracy: 0.8307\n",
            "Epoch 9/10\n",
            "547/547 [==============================] - 142s 260ms/step - loss: 0.0113 - accuracy: 0.9962 - val_loss: 0.9235 - val_accuracy: 0.8259\n",
            "Epoch 10/10\n",
            "547/547 [==============================] - 141s 258ms/step - loss: 0.0161 - accuracy: 0.9949 - val_loss: 0.9544 - val_accuracy: 0.8291\n",
            "Building Bidirectional LSTM model...\n",
            "Training Bidirectional LSTM model...\n",
            "Epoch 1/10\n",
            "547/547 [==============================] - 256s 460ms/step - loss: 0.4382 - accuracy: 0.7892 - val_loss: 0.3633 - val_accuracy: 0.8440\n",
            "Epoch 2/10\n",
            "547/547 [==============================] - 262s 479ms/step - loss: 0.2181 - accuracy: 0.9163 - val_loss: 0.3649 - val_accuracy: 0.8459\n",
            "Epoch 3/10\n",
            "547/547 [==============================] - 259s 473ms/step - loss: 0.1027 - accuracy: 0.9621 - val_loss: 0.4812 - val_accuracy: 0.8419\n",
            "Epoch 4/10\n",
            "547/547 [==============================] - 259s 474ms/step - loss: 0.0499 - accuracy: 0.9834 - val_loss: 0.7212 - val_accuracy: 0.8035\n",
            "Epoch 5/10\n",
            "547/547 [==============================] - 267s 488ms/step - loss: 0.0298 - accuracy: 0.9893 - val_loss: 0.7099 - val_accuracy: 0.8366\n",
            "Epoch 6/10\n",
            "547/547 [==============================] - 294s 538ms/step - loss: 0.0118 - accuracy: 0.9962 - val_loss: 0.8884 - val_accuracy: 0.8358\n",
            "Epoch 7/10\n",
            "547/547 [==============================] - 260s 476ms/step - loss: 0.0290 - accuracy: 0.9890 - val_loss: 0.8857 - val_accuracy: 0.8323\n",
            "Epoch 8/10\n",
            "547/547 [==============================] - 257s 470ms/step - loss: 0.0112 - accuracy: 0.9963 - val_loss: 0.8477 - val_accuracy: 0.8254\n",
            "Epoch 9/10\n",
            "547/547 [==============================] - 259s 474ms/step - loss: 0.0036 - accuracy: 0.9990 - val_loss: 0.9927 - val_accuracy: 0.8251\n",
            "Epoch 10/10\n",
            "547/547 [==============================] - 256s 467ms/step - loss: 0.0043 - accuracy: 0.9989 - val_loss: 1.2210 - val_accuracy: 0.8262\n",
            "Building Deep LSTM model...\n",
            "Training Deep LSTM model...\n",
            "Epoch 1/10\n",
            "547/547 [==============================] - 264s 474ms/step - loss: 0.4261 - accuracy: 0.7998 - val_loss: 0.3479 - val_accuracy: 0.8526\n",
            "Epoch 2/10\n",
            "547/547 [==============================] - 261s 477ms/step - loss: 0.2223 - accuracy: 0.9139 - val_loss: 0.3496 - val_accuracy: 0.8464\n",
            "Epoch 3/10\n",
            "547/547 [==============================] - 267s 489ms/step - loss: 0.1302 - accuracy: 0.9526 - val_loss: 0.5044 - val_accuracy: 0.8400\n",
            "Epoch 4/10\n",
            "547/547 [==============================] - 269s 492ms/step - loss: 0.0706 - accuracy: 0.9760 - val_loss: 0.5873 - val_accuracy: 0.8395\n",
            "Epoch 5/10\n",
            "547/547 [==============================] - 270s 494ms/step - loss: 0.0528 - accuracy: 0.9821 - val_loss: 0.5276 - val_accuracy: 0.8227\n",
            "Epoch 6/10\n",
            "547/547 [==============================] - 265s 484ms/step - loss: 0.0369 - accuracy: 0.9879 - val_loss: 0.6309 - val_accuracy: 0.8200\n",
            "Epoch 7/10\n",
            "547/547 [==============================] - 266s 487ms/step - loss: 0.0448 - accuracy: 0.9854 - val_loss: 0.6401 - val_accuracy: 0.8310\n",
            "Epoch 8/10\n",
            "547/547 [==============================] - 264s 483ms/step - loss: 0.0233 - accuracy: 0.9923 - val_loss: 0.8481 - val_accuracy: 0.8315\n",
            "Epoch 9/10\n",
            "547/547 [==============================] - 267s 489ms/step - loss: 0.0179 - accuracy: 0.9943 - val_loss: 0.8378 - val_accuracy: 0.7969\n",
            "Epoch 10/10\n",
            "547/547 [==============================] - 264s 484ms/step - loss: 0.0176 - accuracy: 0.9946 - val_loss: 0.7265 - val_accuracy: 0.8272\n"
          ]
        },
        {
          "output_type": "execute_result",
          "data": {
            "text/plain": [
              "<keras.src.callbacks.History at 0x7983cd39ac50>"
            ]
          },
          "metadata": {},
          "execution_count": 1
        }
      ],
      "source": [
        "# Function to compile and train model\n",
        "def compile_and_train(model, epochs=10):\n",
        "    model.compile(loss='binary_crossentropy',\n",
        "                  optimizer='adam',\n",
        "                  metrics=['accuracy'])\n",
        "    history = model.fit(x_train, y_train,\n",
        "                        batch_size=batch_size,\n",
        "                        epochs=epochs,\n",
        "                        validation_data=(x_val, y_val))\n",
        "    return history\n",
        "\n",
        "# Simple RNN\n",
        "print('Building Simple RNN model...')\n",
        "model_rnn = Sequential()\n",
        "model_rnn.add(Embedding(max_features, 128))\n",
        "model_rnn.add(SimpleRNN(128))\n",
        "model_rnn.add(Dense(1, activation='sigmoid'))\n",
        "print('Training Simple RNN model...')\n",
        "compile_and_train(model_rnn)\n",
        "\n",
        "# LSTM\n",
        "print('Building LSTM model...')\n",
        "model_lstm = Sequential()\n",
        "model_lstm.add(Embedding(max_features, 128))\n",
        "model_lstm.add(LSTM(128))\n",
        "model_lstm.add(Dense(1, activation='sigmoid'))\n",
        "print('Training LSTM model...')\n",
        "compile_and_train(model_lstm)\n",
        "\n",
        "# Bidirectional LSTM\n",
        "print('Building Bidirectional LSTM model...')\n",
        "model_bilstm = Sequential()\n",
        "model_bilstm.add(Embedding(max_features, 128))\n",
        "model_bilstm.add(Bidirectional(LSTM(128)))\n",
        "model_bilstm.add(Dense(1, activation='sigmoid'))\n",
        "print('Training Bidirectional LSTM model...')\n",
        "compile_and_train(model_bilstm)\n",
        "\n",
        "# Deep LSTM\n",
        "print('Building Deep LSTM model...')\n",
        "model_deep_lstm = Sequential()\n",
        "model_deep_lstm.add(Embedding(max_features, 128))\n",
        "model_deep_lstm.add(LSTM(128, return_sequences=True))\n",
        "model_deep_lstm.add(LSTM(128))\n",
        "model_deep_lstm.add(Dense(1, activation='sigmoid'))\n",
        "print('Training Deep LSTM model...')\n",
        "compile_and_train(model_deep_lstm)"
      ]
    },
    {
      "cell_type": "code",
      "source": [
        "test_loss1, test_acc1 = model_rnn.evaluate(x_test, y_test)\n",
        "print(f'[Simple RNN] Test loss: {test_loss1}, accuracy: {test_acc1}')\n",
        "test_loss2, test_acc2 = model_lstm.evaluate(x_test, y_test)\n",
        "print(f'[LSTM] Test loss: {test_loss2}, accuracy: {test_acc2}')\n",
        "test_loss3, test_acc3 = model_bilstm.evaluate(x_test, y_test)\n",
        "print(f'[Bidirectional LSTM] Test loss: {test_loss3}, accuracy: {test_acc3}')\n",
        "test_loss4, test_acc4 = model_deep_lstm.evaluate(x_test, y_test)\n",
        "print(f'[Deep LSTM] Test loss: {test_loss4}, accuracy: {test_acc4}')"
      ],
      "metadata": {
        "id": "nDw1B2rUiDW4",
        "colab": {
          "base_uri": "https://localhost:8080/"
        },
        "outputId": "aad78b41-3ab7-4426-8d58-9b9a92b65e93"
      },
      "execution_count": null,
      "outputs": [
        {
          "output_type": "stream",
          "name": "stdout",
          "text": [
            "118/118 [==============================] - 2s 16ms/step - loss: 0.6416 - accuracy: 0.7523\n",
            "[Simple RNN] Test loss: 0.6415784955024719, accuracy: 0.7522666454315186\n",
            "118/118 [==============================] - 9s 76ms/step - loss: 1.0176 - accuracy: 0.8261\n",
            "[LSTM] Test loss: 1.0176408290863037, accuracy: 0.8261333107948303\n",
            "118/118 [==============================] - 14s 121ms/step - loss: 1.2418 - accuracy: 0.8296\n",
            "[Bidirectional LSTM] Test loss: 1.241757869720459, accuracy: 0.8295999765396118\n",
            "118/118 [==============================] - 16s 134ms/step - loss: 0.8028 - accuracy: 0.8187\n",
            "[Deep LSTM] Test loss: 0.8027820587158203, accuracy: 0.8186666369438171\n"
          ]
        }
      ]
    },
    {
      "cell_type": "code",
      "source": [
        "model_bilstm_final = Sequential()\n",
        "model_bilstm_final.add(Embedding(max_features, 128))\n",
        "model_bilstm_final.add(Bidirectional(LSTM(128)))\n",
        "model_bilstm_final.add(Dense(1, activation='sigmoid'))\n",
        "\n",
        "\n",
        "early_stopping = EarlyStopping(monitor='val_loss', patience=10, restore_best_weights=True)\n",
        "reduce_lr = ReduceLROnPlateau(monitor='val_loss', factor=0.2, patience=5, min_lr=0.00001)"
      ],
      "metadata": {
        "id": "VnsjPY_tNfc3"
      },
      "execution_count": null,
      "outputs": []
    },
    {
      "cell_type": "code",
      "source": [
        "def compile_and_train_best_adam(model, epochs=30):\n",
        "    model.compile(loss='binary_crossentropy',\n",
        "                  optimizer='adam',\n",
        "                  metrics=['accuracy'])\n",
        "    history = model.fit(x_train, y_train,\n",
        "                        batch_size=batch_size,\n",
        "                        epochs=epochs,\n",
        "                        validation_data=(x_val, y_val),\n",
        "                        callbacks=[early_stopping, reduce_lr])\n",
        "    return history"
      ],
      "metadata": {
        "id": "8RKMCkeRgKPE"
      },
      "execution_count": null,
      "outputs": []
    },
    {
      "cell_type": "code",
      "source": [
        "compile_and_train_best_adam(model_bilstm_final)"
      ],
      "metadata": {
        "colab": {
          "base_uri": "https://localhost:8080/"
        },
        "id": "EerW4KCzNoL7",
        "outputId": "ee3d0a3a-ba45-4638-fb72-a7a29effc90f"
      },
      "execution_count": null,
      "outputs": [
        {
          "output_type": "stream",
          "name": "stdout",
          "text": [
            "Epoch 1/30\n",
            "547/547 [==============================] - 257s 461ms/step - loss: 0.4430 - accuracy: 0.7930 - val_loss: 0.3552 - val_accuracy: 0.8488 - lr: 0.0010\n",
            "Epoch 2/30\n",
            "547/547 [==============================] - 250s 457ms/step - loss: 0.2173 - accuracy: 0.9157 - val_loss: 0.3741 - val_accuracy: 0.8408 - lr: 0.0010\n",
            "Epoch 3/30\n",
            "547/547 [==============================] - 250s 458ms/step - loss: 0.1116 - accuracy: 0.9621 - val_loss: 0.4194 - val_accuracy: 0.8374 - lr: 0.0010\n",
            "Epoch 4/30\n",
            "547/547 [==============================] - 251s 458ms/step - loss: 0.0567 - accuracy: 0.9799 - val_loss: 0.5614 - val_accuracy: 0.8416 - lr: 0.0010\n",
            "Epoch 5/30\n",
            "547/547 [==============================] - 251s 458ms/step - loss: 0.0264 - accuracy: 0.9917 - val_loss: 0.6270 - val_accuracy: 0.8368 - lr: 0.0010\n",
            "Epoch 6/30\n",
            "547/547 [==============================] - 254s 464ms/step - loss: 0.0175 - accuracy: 0.9941 - val_loss: 0.7837 - val_accuracy: 0.8395 - lr: 0.0010\n",
            "Epoch 7/30\n",
            "547/547 [==============================] - 251s 460ms/step - loss: 0.0040 - accuracy: 0.9992 - val_loss: 0.8499 - val_accuracy: 0.8446 - lr: 2.0000e-04\n",
            "Epoch 8/30\n",
            "547/547 [==============================] - 256s 468ms/step - loss: 0.0010 - accuracy: 0.9999 - val_loss: 0.9470 - val_accuracy: 0.8448 - lr: 2.0000e-04\n",
            "Epoch 9/30\n",
            "547/547 [==============================] - 253s 462ms/step - loss: 4.8665e-04 - accuracy: 1.0000 - val_loss: 1.0184 - val_accuracy: 0.8472 - lr: 2.0000e-04\n",
            "Epoch 10/30\n",
            "547/547 [==============================] - 255s 467ms/step - loss: 2.9985e-04 - accuracy: 1.0000 - val_loss: 1.0603 - val_accuracy: 0.8472 - lr: 2.0000e-04\n",
            "Epoch 11/30\n",
            "547/547 [==============================] - 257s 470ms/step - loss: 1.9311e-04 - accuracy: 1.0000 - val_loss: 1.1299 - val_accuracy: 0.8478 - lr: 2.0000e-04\n"
          ]
        },
        {
          "output_type": "execute_result",
          "data": {
            "text/plain": [
              "<keras.src.callbacks.History at 0x7c22bde0b100>"
            ]
          },
          "metadata": {},
          "execution_count": 7
        }
      ]
    },
    {
      "cell_type": "code",
      "source": [
        "test_loss_1, test_acc_1 = model_bilstm_final.evaluate(x_test, y_test)\n",
        "print(f'Adam test loss: {test_loss_1}, accuracy: {test_acc_1}')"
      ],
      "metadata": {
        "colab": {
          "base_uri": "https://localhost:8080/"
        },
        "id": "BSBLAVR7kUy5",
        "outputId": "54193364-8e41-42e3-9bf2-e0cd0e2f9852"
      },
      "execution_count": null,
      "outputs": [
        {
          "output_type": "stream",
          "name": "stdout",
          "text": [
            "118/118 [==============================] - 14s 120ms/step - loss: 0.3674 - accuracy: 0.8360\n",
            "Adam test loss: 0.36740344762802124, accuracy: 0.8360000252723694\n"
          ]
        }
      ]
    },
    {
      "cell_type": "code",
      "source": [
        "model_bilstm_final2 = Sequential()\n",
        "model_bilstm_final2.add(Embedding(max_features, 128))\n",
        "model_bilstm_final2.add(Bidirectional(LSTM(128)))\n",
        "model_bilstm_final2.add(Dense(1, activation='sigmoid'))"
      ],
      "metadata": {
        "id": "IlyEurFLknIF"
      },
      "execution_count": null,
      "outputs": []
    },
    {
      "cell_type": "code",
      "source": [
        "def compile_and_train_best_nadam(model, epochs=30):\n",
        "    model.compile(loss='binary_crossentropy',\n",
        "                  optimizer='Nadam',\n",
        "                  metrics=['accuracy'])\n",
        "    history = model.fit(x_train, y_train,\n",
        "                        batch_size=batch_size,\n",
        "                        epochs=epochs,\n",
        "                        validation_data=(x_val, y_val),\n",
        "                        callbacks=[early_stopping, reduce_lr])\n",
        "    return history"
      ],
      "metadata": {
        "id": "dYI5bsB0gPlu"
      },
      "execution_count": null,
      "outputs": []
    },
    {
      "cell_type": "code",
      "source": [
        "compile_and_train_best_nadam(model_bilstm_final2)"
      ],
      "metadata": {
        "colab": {
          "base_uri": "https://localhost:8080/"
        },
        "id": "wuztVBvukzzC",
        "outputId": "df074679-4603-40e0-ec6f-e923c5a5396f"
      },
      "execution_count": 11,
      "outputs": [
        {
          "output_type": "stream",
          "name": "stdout",
          "text": [
            "Epoch 1/30\n",
            "547/547 [==============================] - 259s 464ms/step - loss: 0.4208 - accuracy: 0.8017 - val_loss: 0.3604 - val_accuracy: 0.8483 - lr: 0.0010\n",
            "Epoch 2/30\n",
            "547/547 [==============================] - 249s 454ms/step - loss: 0.2077 - accuracy: 0.9203 - val_loss: 0.3848 - val_accuracy: 0.8435 - lr: 0.0010\n",
            "Epoch 3/30\n",
            "547/547 [==============================] - 258s 472ms/step - loss: 0.1025 - accuracy: 0.9634 - val_loss: 0.4792 - val_accuracy: 0.8336 - lr: 0.0010\n",
            "Epoch 4/30\n",
            "547/547 [==============================] - 259s 474ms/step - loss: 0.0483 - accuracy: 0.9833 - val_loss: 0.7029 - val_accuracy: 0.8336 - lr: 0.0010\n",
            "Epoch 5/30\n",
            "547/547 [==============================] - 258s 471ms/step - loss: 0.0264 - accuracy: 0.9917 - val_loss: 0.8315 - val_accuracy: 0.8315 - lr: 0.0010\n",
            "Epoch 6/30\n",
            "547/547 [==============================] - 259s 473ms/step - loss: 0.0152 - accuracy: 0.9957 - val_loss: 0.8239 - val_accuracy: 0.8323 - lr: 0.0010\n",
            "Epoch 7/30\n",
            "547/547 [==============================] - 258s 472ms/step - loss: 0.0035 - accuracy: 0.9994 - val_loss: 0.8691 - val_accuracy: 0.8390 - lr: 2.0000e-04\n",
            "Epoch 8/30\n",
            "547/547 [==============================] - 259s 474ms/step - loss: 8.2265e-04 - accuracy: 0.9999 - val_loss: 1.0439 - val_accuracy: 0.8384 - lr: 2.0000e-04\n",
            "Epoch 9/30\n",
            "547/547 [==============================] - 261s 478ms/step - loss: 3.9520e-04 - accuracy: 1.0000 - val_loss: 1.0768 - val_accuracy: 0.8400 - lr: 2.0000e-04\n",
            "Epoch 10/30\n",
            "547/547 [==============================] - 257s 469ms/step - loss: 2.4000e-04 - accuracy: 1.0000 - val_loss: 1.1506 - val_accuracy: 0.8384 - lr: 2.0000e-04\n",
            "Epoch 11/30\n",
            "547/547 [==============================] - 258s 471ms/step - loss: 1.5724e-04 - accuracy: 1.0000 - val_loss: 1.2228 - val_accuracy: 0.8400 - lr: 2.0000e-04\n"
          ]
        },
        {
          "output_type": "execute_result",
          "data": {
            "text/plain": [
              "<keras.src.callbacks.History at 0x7c22b9353d00>"
            ]
          },
          "metadata": {},
          "execution_count": 11
        }
      ]
    },
    {
      "cell_type": "code",
      "source": [
        "test_loss_2, test_acc_2 = model_bilstm_final2.evaluate(x_test, y_test)\n",
        "print(f'Nadam test loss: {test_loss_2}, accuracy: {test_acc_2}')"
      ],
      "metadata": {
        "id": "aWo5_blPk7Mc",
        "colab": {
          "base_uri": "https://localhost:8080/"
        },
        "outputId": "baf6c759-bf39-4d3f-e25b-57427f9f0c68"
      },
      "execution_count": 12,
      "outputs": [
        {
          "output_type": "stream",
          "name": "stdout",
          "text": [
            "118/118 [==============================] - 14s 121ms/step - loss: 0.3567 - accuracy: 0.8464\n",
            "Nadam test loss: 0.35671666264533997, accuracy: 0.8464000225067139\n"
          ]
        }
      ]
    }
  ]
}