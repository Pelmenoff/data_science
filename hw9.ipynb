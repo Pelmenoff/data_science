{
  "nbformat": 4,
  "nbformat_minor": 0,
  "metadata": {
    "colab": {
      "provenance": [],
      "authorship_tag": "ABX9TyMcXwxEuPHkn2tM6Z2LXo6a",
      "include_colab_link": true
    },
    "kernelspec": {
      "name": "python3",
      "display_name": "Python 3"
    },
    "language_info": {
      "name": "python"
    }
  },
  "cells": [
    {
      "cell_type": "markdown",
      "metadata": {
        "id": "view-in-github",
        "colab_type": "text"
      },
      "source": [
        "<a href=\"https://colab.research.google.com/github/Pelmenoff/data_science/blob/main/hw9.ipynb\" target=\"_parent\"><img src=\"https://colab.research.google.com/assets/colab-badge.svg\" alt=\"Open In Colab\"/></a>"
      ]
    },
    {
      "cell_type": "code",
      "source": [
        "pip install keras-tuner --upgrade"
      ],
      "metadata": {
        "colab": {
          "base_uri": "https://localhost:8080/"
        },
        "id": "YYpvwxfqS5pI",
        "outputId": "9081290b-c8f6-42bd-a582-dde1c022fd2c"
      },
      "execution_count": 1,
      "outputs": [
        {
          "output_type": "stream",
          "name": "stdout",
          "text": [
            "Requirement already satisfied: keras-tuner in /usr/local/lib/python3.10/dist-packages (1.4.7)\n",
            "Requirement already satisfied: keras in /usr/local/lib/python3.10/dist-packages (from keras-tuner) (2.15.0)\n",
            "Requirement already satisfied: packaging in /usr/local/lib/python3.10/dist-packages (from keras-tuner) (24.1)\n",
            "Requirement already satisfied: requests in /usr/local/lib/python3.10/dist-packages (from keras-tuner) (2.31.0)\n",
            "Requirement already satisfied: kt-legacy in /usr/local/lib/python3.10/dist-packages (from keras-tuner) (1.0.5)\n",
            "Requirement already satisfied: charset-normalizer<4,>=2 in /usr/local/lib/python3.10/dist-packages (from requests->keras-tuner) (3.3.2)\n",
            "Requirement already satisfied: idna<4,>=2.5 in /usr/local/lib/python3.10/dist-packages (from requests->keras-tuner) (3.7)\n",
            "Requirement already satisfied: urllib3<3,>=1.21.1 in /usr/local/lib/python3.10/dist-packages (from requests->keras-tuner) (2.0.7)\n",
            "Requirement already satisfied: certifi>=2017.4.17 in /usr/local/lib/python3.10/dist-packages (from requests->keras-tuner) (2024.6.2)\n"
          ]
        }
      ]
    },
    {
      "cell_type": "code",
      "source": [
        "import numpy as np\n",
        "import tensorflow as tf\n",
        "import keras_tuner as kt\n",
        "from sklearn.model_selection import train_test_split\n",
        "from tensorflow.keras.datasets import fashion_mnist\n",
        "from tensorflow.keras.utils import to_categorical\n",
        "from tensorflow.keras.models import Sequential\n",
        "from tensorflow.keras.layers import Flatten, Dense, BatchNormalization, LeakyReLU\n",
        "from tensorflow.keras.optimizers import Nadam\n",
        "from tensorflow.keras.callbacks import EarlyStopping, ReduceLROnPlateau"
      ],
      "metadata": {
        "id": "BPMgjWioIbxg"
      },
      "execution_count": 2,
      "outputs": []
    },
    {
      "cell_type": "code",
      "execution_count": 3,
      "metadata": {
        "id": "1Kmlppa5W3U1",
        "colab": {
          "base_uri": "https://localhost:8080/"
        },
        "outputId": "4ae710b4-9b67-40ea-c408-884fa7f8c5a0"
      },
      "outputs": [
        {
          "output_type": "stream",
          "name": "stdout",
          "text": [
            "Train data size (42000, 28, 28)\n",
            "Test data size (12000, 28, 28)\n",
            "Validation data size (6000, 28, 28)\n"
          ]
        }
      ],
      "source": [
        "# Завантаження даних\n",
        "(x, y), _ = fashion_mnist.load_data()\n",
        "\n",
        "# Спочатку розділяємо дані на 70% тренувальні і 30% для тестування та валідації\n",
        "x_train, x_test_raw, y_train, y_test_raw = train_test_split(x, y, train_size=0.7, random_state=555)\n",
        "\n",
        "# Тепер розділимо ці 30% на 20% для тесту і 15% для валідації\n",
        "# 20% від загального числа = 20/30 частини від x_test_raw та y_test_raw\n",
        "test_size = 20 / 30\n",
        "x_val, x_test, y_val, y_test = train_test_split(x_test_raw, y_test_raw, test_size=test_size, random_state=555)\n",
        "\n",
        "print(\"Train data size\", x_train.shape)\n",
        "print(\"Test data size\", x_test.shape)\n",
        "print(\"Validation data size\", x_val.shape)\n",
        "\n",
        "# Масштабування зображень до діапазону [0, 1]\n",
        "x_train = x_train.astype('float32') / 255.0\n",
        "x_val = x_val.astype('float32') / 255.0\n",
        "x_test = x_test.astype('float32') / 255.0\n",
        "\n",
        "# Розширення розмірності (додавання каналу)\n",
        "x_train = np.expand_dims(x_train, -1)\n",
        "x_val = np.expand_dims(x_val, -1)\n",
        "x_test = np.expand_dims(x_test, -1)\n",
        "\n",
        "# One-hot кодування міток\n",
        "y_train = to_categorical(y_train, 10)\n",
        "y_val = to_categorical(y_val, 10)\n",
        "y_test = to_categorical(y_test, 10)"
      ]
    },
    {
      "cell_type": "code",
      "source": [
        "def build_model(hp):\n",
        "    model = Sequential()\n",
        "    model.add(Flatten(input_shape=(28, 28, 1)))\n",
        "\n",
        "    for i in range(hp.Int('num_layers', 2, 6)):\n",
        "        model.add(Dense(units=hp.Int('units_' + str(i), min_value=64, max_value=1024, step=64), activation='relu'))\n",
        "        model.add(BatchNormalization())\n",
        "\n",
        "    model.add(Dense(10, activation='softmax'))\n",
        "\n",
        "    model.compile(\n",
        "        optimizer=Nadam(hp.Float('learning_rate', 1e-4, 1e-2, sampling='LOG')),\n",
        "        loss='categorical_crossentropy',\n",
        "        metrics=['accuracy']\n",
        "    )\n",
        "\n",
        "    return model\n",
        "\n",
        "tuner = kt.Hyperband(\n",
        "    build_model,\n",
        "    objective='val_accuracy',\n",
        "    max_epochs=50,\n",
        "    hyperband_iterations=2\n",
        ")\n",
        "\n",
        "tuner.search(x_train, y_train, epochs=50, validation_data=(x_val, y_val))\n",
        "\n",
        "# Получение лучших гиперпараметров и модели\n",
        "best_hps = tuner.get_best_hyperparameters(num_trials=1)[0]\n",
        "best_model = tuner.hypermodel.build(best_hps)\n",
        "best_model.fit(x_train, y_train, epochs=50, validation_data=(x_val, y_val))"
      ],
      "metadata": {
        "id": "MacL99doW96v",
        "colab": {
          "base_uri": "https://localhost:8080/"
        },
        "outputId": "450631ce-159a-461c-deb0-708dd66192b9"
      },
      "execution_count": null,
      "outputs": [
        {
          "output_type": "stream",
          "name": "stdout",
          "text": [
            "Trial 73 Complete [00h 33m 18s]\n",
            "val_accuracy: 0.8981666564941406\n",
            "\n",
            "Best val_accuracy So Far: 0.9010000228881836\n",
            "Total elapsed time: 04h 16m 23s\n",
            "\n",
            "Search: Running Trial #74\n",
            "\n",
            "Value             |Best Value So Far |Hyperparameter\n",
            "2                 |6                 |num_layers\n",
            "704               |960               |units_0\n",
            "256               |576               |units_1\n",
            "0.00027728        |0.00019832        |learning_rate\n",
            "64                |64                |units_2\n",
            "768               |128               |units_3\n",
            "960               |704               |units_4\n",
            "256               |640               |units_5\n",
            "50                |50                |tuner/epochs\n",
            "17                |17                |tuner/initial_epoch\n",
            "2                 |3                 |tuner/bracket\n",
            "2                 |3                 |tuner/round\n",
            "0070              |0048              |tuner/trial_id\n",
            "\n",
            "Epoch 18/50\n",
            "1313/1313 [==============================] - 22s 15ms/step - loss: 0.2551 - accuracy: 0.9047 - val_loss: 0.3195 - val_accuracy: 0.8925\n",
            "Epoch 19/50\n",
            "1313/1313 [==============================] - 19s 14ms/step - loss: 0.2465 - accuracy: 0.9075 - val_loss: 0.3251 - val_accuracy: 0.8887\n",
            "Epoch 20/50\n",
            "1313/1313 [==============================] - 18s 14ms/step - loss: 0.2402 - accuracy: 0.9104 - val_loss: 0.3436 - val_accuracy: 0.8852\n",
            "Epoch 21/50\n",
            "1313/1313 [==============================] - 20s 15ms/step - loss: 0.2319 - accuracy: 0.9126 - val_loss: 0.3448 - val_accuracy: 0.8850\n",
            "Epoch 22/50\n",
            "1313/1313 [==============================] - 18s 14ms/step - loss: 0.2218 - accuracy: 0.9162 - val_loss: 0.3417 - val_accuracy: 0.8855\n",
            "Epoch 23/50\n",
            "1313/1313 [==============================] - 18s 14ms/step - loss: 0.2132 - accuracy: 0.9196 - val_loss: 0.3263 - val_accuracy: 0.8907\n",
            "Epoch 24/50\n",
            "1313/1313 [==============================] - 20s 15ms/step - loss: 0.2087 - accuracy: 0.9194 - val_loss: 0.3406 - val_accuracy: 0.8802\n",
            "Epoch 25/50\n",
            "1313/1313 [==============================] - 18s 14ms/step - loss: 0.2001 - accuracy: 0.9248 - val_loss: 0.3776 - val_accuracy: 0.8797\n",
            "Epoch 26/50\n",
            "1313/1313 [==============================] - 19s 14ms/step - loss: 0.1973 - accuracy: 0.9257 - val_loss: 0.3315 - val_accuracy: 0.8897\n",
            "Epoch 27/50\n",
            "1313/1313 [==============================] - 20s 15ms/step - loss: 0.1935 - accuracy: 0.9264 - val_loss: 0.3558 - val_accuracy: 0.8808\n",
            "Epoch 28/50\n",
            "1313/1313 [==============================] - 18s 14ms/step - loss: 0.1926 - accuracy: 0.9267 - val_loss: 0.3604 - val_accuracy: 0.8827\n",
            "Epoch 29/50\n",
            "1313/1313 [==============================] - 18s 14ms/step - loss: 0.1865 - accuracy: 0.9286 - val_loss: 0.3681 - val_accuracy: 0.8865\n",
            "Epoch 30/50\n",
            "1313/1313 [==============================] - 20s 15ms/step - loss: 0.1786 - accuracy: 0.9324 - val_loss: 0.3618 - val_accuracy: 0.8837\n",
            "Epoch 31/50\n",
            "1313/1313 [==============================] - 18s 14ms/step - loss: 0.1682 - accuracy: 0.9359 - val_loss: 0.3438 - val_accuracy: 0.8932\n",
            "Epoch 32/50\n",
            "1313/1313 [==============================] - 19s 14ms/step - loss: 0.1672 - accuracy: 0.9370 - val_loss: 0.3700 - val_accuracy: 0.8908\n",
            "Epoch 33/50\n",
            "1313/1313 [==============================] - 20s 15ms/step - loss: 0.1651 - accuracy: 0.9370 - val_loss: 0.3559 - val_accuracy: 0.8920\n",
            "Epoch 34/50\n",
            "1313/1313 [==============================] - 18s 14ms/step - loss: 0.1592 - accuracy: 0.9387 - val_loss: 0.3482 - val_accuracy: 0.8983\n",
            "Epoch 35/50\n",
            "1313/1313 [==============================] - 19s 14ms/step - loss: 0.1620 - accuracy: 0.9388 - val_loss: 0.3927 - val_accuracy: 0.8853\n",
            "Epoch 36/50\n",
            "1313/1313 [==============================] - 20s 15ms/step - loss: 0.1481 - accuracy: 0.9440 - val_loss: 0.3778 - val_accuracy: 0.8952\n",
            "Epoch 37/50\n",
            "1313/1313 [==============================] - 18s 14ms/step - loss: 0.1505 - accuracy: 0.9428 - val_loss: 0.4003 - val_accuracy: 0.8833\n",
            "Epoch 38/50\n",
            "1313/1313 [==============================] - 19s 15ms/step - loss: 0.1477 - accuracy: 0.9438 - val_loss: 0.3930 - val_accuracy: 0.8868\n",
            "Epoch 39/50\n",
            "1313/1313 [==============================] - 20s 15ms/step - loss: 0.1440 - accuracy: 0.9451 - val_loss: 0.3583 - val_accuracy: 0.8938\n",
            "Epoch 40/50\n",
            "1313/1313 [==============================] - 18s 14ms/step - loss: 0.1394 - accuracy: 0.9474 - val_loss: 0.3726 - val_accuracy: 0.8903\n",
            "Epoch 41/50\n",
            "1313/1313 [==============================] - 19s 15ms/step - loss: 0.1356 - accuracy: 0.9484 - val_loss: 0.4060 - val_accuracy: 0.8945\n",
            "Epoch 42/50\n",
            "1313/1313 [==============================] - 19s 14ms/step - loss: 0.1378 - accuracy: 0.9483 - val_loss: 0.3881 - val_accuracy: 0.8988\n",
            "Epoch 43/50\n",
            "1313/1313 [==============================] - 18s 14ms/step - loss: 0.1289 - accuracy: 0.9507 - val_loss: 0.4379 - val_accuracy: 0.8808\n",
            "Epoch 44/50\n",
            "1313/1313 [==============================] - 20s 15ms/step - loss: 0.1281 - accuracy: 0.9524 - val_loss: 0.4052 - val_accuracy: 0.8895\n",
            "Epoch 45/50\n",
            "1313/1313 [==============================] - 19s 14ms/step - loss: 0.1255 - accuracy: 0.9530 - val_loss: 0.4365 - val_accuracy: 0.8862\n",
            "Epoch 46/50\n",
            " 277/1313 [=====>........................] - ETA: 12s - loss: 0.1133 - accuracy: 0.9593"
          ]
        }
      ]
    },
    {
      "cell_type": "code",
      "source": [
        "model = Sequential()\n",
        "model.add(Flatten(input_shape=(28, 28, 1)))\n",
        "\n",
        "model.add(Dense(704))\n",
        "model.add(BatchNormalization())\n",
        "model.add(LeakyReLU(alpha=0.1))\n",
        "\n",
        "model.add(Dense(256))\n",
        "model.add(BatchNormalization())\n",
        "model.add(LeakyReLU(alpha=0.1))\n",
        "\n",
        "model.add(Dense(64))\n",
        "model.add(BatchNormalization())\n",
        "model.add(LeakyReLU(alpha=0.1))\n",
        "\n",
        "model.add(Dense(768))\n",
        "model.add(BatchNormalization())\n",
        "model.add(LeakyReLU(alpha=0.1))\n",
        "\n",
        "model.add(Dense(960))\n",
        "model.add(BatchNormalization())\n",
        "model.add(LeakyReLU(alpha=0.1))\n",
        "\n",
        "model.add(Dense(256))\n",
        "model.add(BatchNormalization())\n",
        "model.add(LeakyReLU(alpha=0.1))\n",
        "\n",
        "model.add(Dense(10, activation='softmax'))"
      ],
      "metadata": {
        "id": "yENZf2Khdesg"
      },
      "execution_count": 4,
      "outputs": []
    },
    {
      "cell_type": "code",
      "source": [
        "model.summary()"
      ],
      "metadata": {
        "colab": {
          "base_uri": "https://localhost:8080/"
        },
        "id": "ZDrwLpeQVcw-",
        "outputId": "0324fccf-7dca-476c-aa66-18a48830fd6c"
      },
      "execution_count": 5,
      "outputs": [
        {
          "output_type": "stream",
          "name": "stdout",
          "text": [
            "Model: \"sequential\"\n",
            "_________________________________________________________________\n",
            " Layer (type)                Output Shape              Param #   \n",
            "=================================================================\n",
            " flatten (Flatten)           (None, 784)               0         \n",
            "                                                                 \n",
            " dense (Dense)               (None, 704)               552640    \n",
            "                                                                 \n",
            " batch_normalization (Batch  (None, 704)               2816      \n",
            " Normalization)                                                  \n",
            "                                                                 \n",
            " dense_1 (Dense)             (None, 256)               180480    \n",
            "                                                                 \n",
            " batch_normalization_1 (Bat  (None, 256)               1024      \n",
            " chNormalization)                                                \n",
            "                                                                 \n",
            " dense_2 (Dense)             (None, 64)                16448     \n",
            "                                                                 \n",
            " batch_normalization_2 (Bat  (None, 64)                256       \n",
            " chNormalization)                                                \n",
            "                                                                 \n",
            " dense_3 (Dense)             (None, 768)               49920     \n",
            "                                                                 \n",
            " batch_normalization_3 (Bat  (None, 768)               3072      \n",
            " chNormalization)                                                \n",
            "                                                                 \n",
            " dense_4 (Dense)             (None, 960)               738240    \n",
            "                                                                 \n",
            " batch_normalization_4 (Bat  (None, 960)               3840      \n",
            " chNormalization)                                                \n",
            "                                                                 \n",
            " dense_5 (Dense)             (None, 256)               246016    \n",
            "                                                                 \n",
            " batch_normalization_5 (Bat  (None, 256)               1024      \n",
            " chNormalization)                                                \n",
            "                                                                 \n",
            " dense_6 (Dense)             (None, 10)                2570      \n",
            "                                                                 \n",
            "=================================================================\n",
            "Total params: 1798346 (6.86 MB)\n",
            "Trainable params: 1792330 (6.84 MB)\n",
            "Non-trainable params: 6016 (23.50 KB)\n",
            "_________________________________________________________________\n"
          ]
        }
      ]
    },
    {
      "cell_type": "code",
      "source": [
        "# Компільовання моделі\n",
        "model.compile(optimizer=Nadam(learning_rate=0.0002),\n",
        "              loss='categorical_crossentropy',\n",
        "              metrics=['accuracy'])\n",
        "\n",
        "# Early Stopping\n",
        "early_stopping = EarlyStopping(monitor='val_loss', patience=10, restore_best_weights=True)\n",
        "reduce_lr = ReduceLROnPlateau(monitor='val_loss', factor=0.2, patience=5, min_lr=0.00001)"
      ],
      "metadata": {
        "id": "ZDqWQP0FXD6g"
      },
      "execution_count": 5,
      "outputs": []
    },
    {
      "cell_type": "code",
      "source": [
        "# Тренування моделі\n",
        "history = model.fit(x_train, y_train, batch_size=32,\n",
        "                    epochs=50, validation_data=(x_val, y_val), callbacks=[early_stopping, reduce_lr])"
      ],
      "metadata": {
        "colab": {
          "base_uri": "https://localhost:8080/"
        },
        "id": "8ybRd9dtXJ3y",
        "outputId": "17d37036-3d5c-444a-fd6c-eb383486d517"
      },
      "execution_count": 6,
      "outputs": [
        {
          "output_type": "stream",
          "name": "stdout",
          "text": [
            "Epoch 1/50\n",
            "1313/1313 [==============================] - 66s 40ms/step - loss: 0.5153 - accuracy: 0.8181 - val_loss: 0.4065 - val_accuracy: 0.8502 - lr: 2.0000e-04\n",
            "Epoch 2/50\n",
            "1313/1313 [==============================] - 52s 40ms/step - loss: 0.3804 - accuracy: 0.8604 - val_loss: 0.3380 - val_accuracy: 0.8730 - lr: 2.0000e-04\n",
            "Epoch 3/50\n",
            "1313/1313 [==============================] - 53s 40ms/step - loss: 0.3393 - accuracy: 0.8751 - val_loss: 0.3431 - val_accuracy: 0.8775 - lr: 2.0000e-04\n",
            "Epoch 4/50\n",
            "1313/1313 [==============================] - 51s 39ms/step - loss: 0.3104 - accuracy: 0.8850 - val_loss: 0.3226 - val_accuracy: 0.8835 - lr: 2.0000e-04\n",
            "Epoch 5/50\n",
            "1313/1313 [==============================] - 51s 39ms/step - loss: 0.2854 - accuracy: 0.8938 - val_loss: 0.3525 - val_accuracy: 0.8768 - lr: 2.0000e-04\n",
            "Epoch 6/50\n",
            "1313/1313 [==============================] - 51s 39ms/step - loss: 0.2671 - accuracy: 0.8989 - val_loss: 0.3346 - val_accuracy: 0.8800 - lr: 2.0000e-04\n",
            "Epoch 7/50\n",
            "1313/1313 [==============================] - 52s 40ms/step - loss: 0.2499 - accuracy: 0.9060 - val_loss: 0.3150 - val_accuracy: 0.8893 - lr: 2.0000e-04\n",
            "Epoch 8/50\n",
            "1313/1313 [==============================] - 51s 38ms/step - loss: 0.2347 - accuracy: 0.9115 - val_loss: 0.3059 - val_accuracy: 0.8958 - lr: 2.0000e-04\n",
            "Epoch 9/50\n",
            "1313/1313 [==============================] - 51s 39ms/step - loss: 0.2230 - accuracy: 0.9149 - val_loss: 0.3147 - val_accuracy: 0.8917 - lr: 2.0000e-04\n",
            "Epoch 10/50\n",
            "1313/1313 [==============================] - 51s 39ms/step - loss: 0.2057 - accuracy: 0.9219 - val_loss: 0.3376 - val_accuracy: 0.8822 - lr: 2.0000e-04\n",
            "Epoch 11/50\n",
            "1313/1313 [==============================] - 51s 39ms/step - loss: 0.1965 - accuracy: 0.9255 - val_loss: 0.3166 - val_accuracy: 0.8942 - lr: 2.0000e-04\n",
            "Epoch 12/50\n",
            "1313/1313 [==============================] - 54s 41ms/step - loss: 0.1852 - accuracy: 0.9310 - val_loss: 0.3286 - val_accuracy: 0.8895 - lr: 2.0000e-04\n",
            "Epoch 13/50\n",
            "1313/1313 [==============================] - 51s 39ms/step - loss: 0.1755 - accuracy: 0.9336 - val_loss: 0.3158 - val_accuracy: 0.8947 - lr: 2.0000e-04\n",
            "Epoch 14/50\n",
            "1313/1313 [==============================] - 55s 42ms/step - loss: 0.1182 - accuracy: 0.9571 - val_loss: 0.2969 - val_accuracy: 0.9057 - lr: 4.0000e-05\n",
            "Epoch 15/50\n",
            "1313/1313 [==============================] - 51s 39ms/step - loss: 0.1038 - accuracy: 0.9618 - val_loss: 0.3267 - val_accuracy: 0.8998 - lr: 4.0000e-05\n",
            "Epoch 16/50\n",
            "1313/1313 [==============================] - 53s 40ms/step - loss: 0.0954 - accuracy: 0.9642 - val_loss: 0.3200 - val_accuracy: 0.9060 - lr: 4.0000e-05\n",
            "Epoch 17/50\n",
            "1313/1313 [==============================] - 51s 39ms/step - loss: 0.0884 - accuracy: 0.9674 - val_loss: 0.3170 - val_accuracy: 0.9095 - lr: 4.0000e-05\n",
            "Epoch 18/50\n",
            "1313/1313 [==============================] - 52s 39ms/step - loss: 0.0831 - accuracy: 0.9696 - val_loss: 0.3396 - val_accuracy: 0.9065 - lr: 4.0000e-05\n",
            "Epoch 19/50\n",
            "1313/1313 [==============================] - 52s 40ms/step - loss: 0.0787 - accuracy: 0.9705 - val_loss: 0.3535 - val_accuracy: 0.9062 - lr: 4.0000e-05\n",
            "Epoch 20/50\n",
            "1313/1313 [==============================] - 51s 39ms/step - loss: 0.0642 - accuracy: 0.9767 - val_loss: 0.3411 - val_accuracy: 0.9067 - lr: 1.0000e-05\n",
            "Epoch 21/50\n",
            "1313/1313 [==============================] - 51s 39ms/step - loss: 0.0609 - accuracy: 0.9786 - val_loss: 0.3486 - val_accuracy: 0.9078 - lr: 1.0000e-05\n",
            "Epoch 22/50\n",
            "1313/1313 [==============================] - 51s 39ms/step - loss: 0.0593 - accuracy: 0.9790 - val_loss: 0.3521 - val_accuracy: 0.9063 - lr: 1.0000e-05\n",
            "Epoch 23/50\n",
            "1313/1313 [==============================] - 52s 40ms/step - loss: 0.0581 - accuracy: 0.9796 - val_loss: 0.3538 - val_accuracy: 0.9082 - lr: 1.0000e-05\n",
            "Epoch 24/50\n",
            "1313/1313 [==============================] - 52s 39ms/step - loss: 0.0544 - accuracy: 0.9806 - val_loss: 0.3554 - val_accuracy: 0.9092 - lr: 1.0000e-05\n"
          ]
        }
      ]
    },
    {
      "cell_type": "code",
      "source": [
        "# Оцінка моделі\n",
        "test_loss, test_acc = model.evaluate(x_test, y_test)\n",
        "print(f'Test loss: {test_loss}, accuracy: {test_acc}')"
      ],
      "metadata": {
        "id": "oT40Z9ufXOQ6",
        "colab": {
          "base_uri": "https://localhost:8080/"
        },
        "outputId": "bf6c45a9-e32d-4135-a0fe-765f182c4e8b"
      },
      "execution_count": 7,
      "outputs": [
        {
          "output_type": "stream",
          "name": "stdout",
          "text": [
            "375/375 [==============================] - 3s 8ms/step - loss: 0.2876 - accuracy: 0.9110\n",
            "Test loss: 0.2875920534133911, accuracy: 0.9110000133514404\n"
          ]
        }
      ]
    }
  ]
}