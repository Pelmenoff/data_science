{
  "nbformat": 4,
  "nbformat_minor": 0,
  "metadata": {
    "colab": {
      "provenance": [],
      "authorship_tag": "ABX9TyP0oNeFdlr3hcdWHL/FM3bG",
      "include_colab_link": true
    },
    "kernelspec": {
      "name": "python3",
      "display_name": "Python 3"
    },
    "language_info": {
      "name": "python"
    }
  },
  "cells": [
    {
      "cell_type": "markdown",
      "metadata": {
        "id": "view-in-github",
        "colab_type": "text"
      },
      "source": [
        "<a href=\"https://colab.research.google.com/github/Pelmenoff/data_science/blob/main/hw9.ipynb\" target=\"_parent\"><img src=\"https://colab.research.google.com/assets/colab-badge.svg\" alt=\"Open In Colab\"/></a>"
      ]
    },
    {
      "cell_type": "code",
      "source": [
        "import numpy as np\n",
        "import tensorflow as tf\n",
        "from sklearn.model_selection import train_test_split\n",
        "from tensorflow.keras.datasets import fashion_mnist\n",
        "from tensorflow.keras.utils import to_categorical\n",
        "from tensorflow.keras.models import Sequential\n",
        "from tensorflow.keras.layers import Conv2D, MaxPooling2D, Flatten, Dense\n",
        "from tensorflow.keras.optimizers import Adam"
      ],
      "metadata": {
        "id": "BPMgjWioIbxg"
      },
      "execution_count": 1,
      "outputs": []
    },
    {
      "cell_type": "code",
      "execution_count": 2,
      "metadata": {
        "id": "1Kmlppa5W3U1",
        "colab": {
          "base_uri": "https://localhost:8080/"
        },
        "outputId": "00a4cbba-c845-4352-9636-c63ec751bf62"
      },
      "outputs": [
        {
          "output_type": "stream",
          "name": "stdout",
          "text": [
            "Train data size (42000, 28, 28)\n",
            "Test data size (12000, 28, 28)\n",
            "Validation data size (6000, 28, 28)\n"
          ]
        }
      ],
      "source": [
        "# Завантаження даних\n",
        "(x, y), _ = fashion_mnist.load_data()\n",
        "\n",
        "# Спочатку розділяємо дані на 65% тренувальні і 35% для тестування та валідації\n",
        "x_train, x_test_raw, y_train, y_test_raw = train_test_split(x, y, train_size=0.7, random_state=555)\n",
        "\n",
        "# Тепер розділимо ці 30% на 20% для тесту і 15% для валідації\n",
        "# 20% від загального числа = 20/30 частини від x_test_raw та y_test_raw\n",
        "test_size = 20 / 30\n",
        "x_val, x_test, y_val, y_test = train_test_split(x_test_raw, y_test_raw, test_size=test_size, random_state=555)\n",
        "\n",
        "print(\"Train data size\", x_train.shape)\n",
        "print(\"Test data size\", x_test.shape)\n",
        "print(\"Validation data size\", x_val.shape)\n",
        "\n",
        "# Масштабування зображень до діапазону [0, 1]\n",
        "x_train = x_train.astype('float32') / 255.0\n",
        "x_val = x_val.astype('float32') / 255.0\n",
        "x_test = x_test.astype('float32') / 255.0\n",
        "\n",
        "# Розширення розмірності (додавання каналу)\n",
        "x_train = np.expand_dims(x_train, -1)\n",
        "x_val = np.expand_dims(x_val, -1)\n",
        "x_test = np.expand_dims(x_test, -1)\n",
        "\n",
        "# One-hot кодування міток\n",
        "y_train = to_categorical(y_train, 10)\n",
        "y_val = to_categorical(y_val, 10)\n",
        "y_test = to_categorical(y_test, 10)"
      ]
    },
    {
      "cell_type": "code",
      "source": [
        "model = Sequential()\n",
        "\n",
        "# Перший згортковий шар\n",
        "model.add(Conv2D(32, (3, 3), activation='relu', input_shape=(28, 28, 1)))\n",
        "model.add(MaxPooling2D((2, 2)))\n",
        "\n",
        "# Другий згортковий шар\n",
        "model.add(Conv2D(64, (3, 3), activation='relu'))\n",
        "model.add(MaxPooling2D((2, 2)))\n",
        "\n",
        "# Третій згортковий шар\n",
        "model.add(Conv2D(128, (3, 3), activation='relu'))\n",
        "\n",
        "# Перетворення даних в одновимірний вектор\n",
        "model.add(Flatten())\n",
        "\n",
        "# Перший повнозв'язний шар\n",
        "model.add(Dense(128, activation='relu'))\n",
        "\n",
        "# Вихідний шар\n",
        "model.add(Dense(10, activation='softmax'))"
      ],
      "metadata": {
        "id": "MacL99doW96v"
      },
      "execution_count": 3,
      "outputs": []
    },
    {
      "cell_type": "code",
      "source": [
        "model.summary()"
      ],
      "metadata": {
        "colab": {
          "base_uri": "https://localhost:8080/"
        },
        "id": "ZDrwLpeQVcw-",
        "outputId": "d527047a-13b7-4aee-caf5-64407572a987"
      },
      "execution_count": 4,
      "outputs": [
        {
          "output_type": "stream",
          "name": "stdout",
          "text": [
            "Model: \"sequential\"\n",
            "_________________________________________________________________\n",
            " Layer (type)                Output Shape              Param #   \n",
            "=================================================================\n",
            " conv2d (Conv2D)             (None, 26, 26, 32)        320       \n",
            "                                                                 \n",
            " max_pooling2d (MaxPooling2  (None, 13, 13, 32)        0         \n",
            " D)                                                              \n",
            "                                                                 \n",
            " conv2d_1 (Conv2D)           (None, 11, 11, 64)        18496     \n",
            "                                                                 \n",
            " max_pooling2d_1 (MaxPoolin  (None, 5, 5, 64)          0         \n",
            " g2D)                                                            \n",
            "                                                                 \n",
            " conv2d_2 (Conv2D)           (None, 3, 3, 128)         73856     \n",
            "                                                                 \n",
            " flatten (Flatten)           (None, 1152)              0         \n",
            "                                                                 \n",
            " dense (Dense)               (None, 128)               147584    \n",
            "                                                                 \n",
            " dense_1 (Dense)             (None, 10)                1290      \n",
            "                                                                 \n",
            "=================================================================\n",
            "Total params: 241546 (943.54 KB)\n",
            "Trainable params: 241546 (943.54 KB)\n",
            "Non-trainable params: 0 (0.00 Byte)\n",
            "_________________________________________________________________\n"
          ]
        }
      ]
    },
    {
      "cell_type": "code",
      "source": [
        "# Компільовання моделі\n",
        "model.compile(optimizer='Adam',\n",
        "              loss='categorical_crossentropy',\n",
        "              metrics=['accuracy'])"
      ],
      "metadata": {
        "id": "ZDqWQP0FXD6g"
      },
      "execution_count": 5,
      "outputs": []
    },
    {
      "cell_type": "code",
      "source": [
        "# Тренування моделі\n",
        "history = model.fit(x_train, y_train, batch_size=128,\n",
        "                    epochs=25, validation_data=(x_val, y_val))"
      ],
      "metadata": {
        "colab": {
          "base_uri": "https://localhost:8080/"
        },
        "id": "8ybRd9dtXJ3y",
        "outputId": "78875932-4b64-4701-d5b3-b7a62f37e8b7"
      },
      "execution_count": 6,
      "outputs": [
        {
          "output_type": "stream",
          "name": "stdout",
          "text": [
            "Epoch 1/25\n",
            "329/329 [==============================] - 42s 124ms/step - loss: 0.6462 - accuracy: 0.7641 - val_loss: 0.4264 - val_accuracy: 0.8433\n",
            "Epoch 2/25\n",
            "329/329 [==============================] - 39s 119ms/step - loss: 0.3900 - accuracy: 0.8583 - val_loss: 0.3843 - val_accuracy: 0.8593\n",
            "Epoch 3/25\n",
            "329/329 [==============================] - 41s 124ms/step - loss: 0.3310 - accuracy: 0.8794 - val_loss: 0.3464 - val_accuracy: 0.8722\n",
            "Epoch 4/25\n",
            "329/329 [==============================] - 42s 128ms/step - loss: 0.2974 - accuracy: 0.8918 - val_loss: 0.2868 - val_accuracy: 0.8957\n",
            "Epoch 5/25\n",
            "329/329 [==============================] - 38s 116ms/step - loss: 0.2734 - accuracy: 0.8986 - val_loss: 0.2700 - val_accuracy: 0.8988\n",
            "Epoch 6/25\n",
            "329/329 [==============================] - 40s 120ms/step - loss: 0.2534 - accuracy: 0.9069 - val_loss: 0.2907 - val_accuracy: 0.8970\n",
            "Epoch 7/25\n",
            "329/329 [==============================] - 40s 120ms/step - loss: 0.2279 - accuracy: 0.9154 - val_loss: 0.2602 - val_accuracy: 0.9057\n",
            "Epoch 8/25\n",
            "329/329 [==============================] - 38s 117ms/step - loss: 0.2122 - accuracy: 0.9214 - val_loss: 0.2567 - val_accuracy: 0.9072\n",
            "Epoch 9/25\n",
            "329/329 [==============================] - 41s 124ms/step - loss: 0.2004 - accuracy: 0.9260 - val_loss: 0.2535 - val_accuracy: 0.9097\n",
            "Epoch 10/25\n",
            "329/329 [==============================] - 40s 121ms/step - loss: 0.1806 - accuracy: 0.9332 - val_loss: 0.2493 - val_accuracy: 0.9127\n",
            "Epoch 11/25\n",
            "329/329 [==============================] - 38s 115ms/step - loss: 0.1672 - accuracy: 0.9375 - val_loss: 0.2712 - val_accuracy: 0.9027\n",
            "Epoch 12/25\n",
            "329/329 [==============================] - 40s 121ms/step - loss: 0.1579 - accuracy: 0.9404 - val_loss: 0.2572 - val_accuracy: 0.9123\n",
            "Epoch 13/25\n",
            "329/329 [==============================] - 42s 126ms/step - loss: 0.1409 - accuracy: 0.9473 - val_loss: 0.2681 - val_accuracy: 0.9113\n",
            "Epoch 14/25\n",
            "329/329 [==============================] - 38s 114ms/step - loss: 0.1282 - accuracy: 0.9514 - val_loss: 0.2818 - val_accuracy: 0.9125\n",
            "Epoch 15/25\n",
            "329/329 [==============================] - 39s 120ms/step - loss: 0.1128 - accuracy: 0.9575 - val_loss: 0.2929 - val_accuracy: 0.9053\n",
            "Epoch 16/25\n",
            "329/329 [==============================] - 40s 120ms/step - loss: 0.1064 - accuracy: 0.9601 - val_loss: 0.2944 - val_accuracy: 0.9128\n",
            "Epoch 17/25\n",
            "329/329 [==============================] - 39s 120ms/step - loss: 0.0959 - accuracy: 0.9648 - val_loss: 0.3003 - val_accuracy: 0.9145\n",
            "Epoch 18/25\n",
            "329/329 [==============================] - 39s 119ms/step - loss: 0.0815 - accuracy: 0.9701 - val_loss: 0.3184 - val_accuracy: 0.9152\n",
            "Epoch 19/25\n",
            "329/329 [==============================] - 40s 120ms/step - loss: 0.0763 - accuracy: 0.9713 - val_loss: 0.3260 - val_accuracy: 0.9140\n",
            "Epoch 20/25\n",
            "329/329 [==============================] - 38s 114ms/step - loss: 0.0684 - accuracy: 0.9750 - val_loss: 0.3523 - val_accuracy: 0.9073\n",
            "Epoch 21/25\n",
            "329/329 [==============================] - 41s 125ms/step - loss: 0.0669 - accuracy: 0.9752 - val_loss: 0.3801 - val_accuracy: 0.9103\n",
            "Epoch 22/25\n",
            "329/329 [==============================] - 39s 120ms/step - loss: 0.0628 - accuracy: 0.9765 - val_loss: 0.3779 - val_accuracy: 0.9083\n",
            "Epoch 23/25\n",
            "329/329 [==============================] - 38s 115ms/step - loss: 0.0514 - accuracy: 0.9812 - val_loss: 0.3895 - val_accuracy: 0.9122\n",
            "Epoch 24/25\n",
            "329/329 [==============================] - 40s 120ms/step - loss: 0.0449 - accuracy: 0.9839 - val_loss: 0.3935 - val_accuracy: 0.9100\n",
            "Epoch 25/25\n",
            "329/329 [==============================] - 41s 125ms/step - loss: 0.0393 - accuracy: 0.9858 - val_loss: 0.4212 - val_accuracy: 0.9132\n"
          ]
        }
      ]
    },
    {
      "cell_type": "code",
      "source": [
        "# Оцінка моделі\n",
        "test_loss, test_acc = model.evaluate(x_test, y_test)\n",
        "print(f'Test loss: {test_loss}, accuracy: {test_acc}')"
      ],
      "metadata": {
        "id": "oT40Z9ufXOQ6",
        "colab": {
          "base_uri": "https://localhost:8080/"
        },
        "outputId": "d35f81bc-24c8-4b6d-bbf0-12b7661f9553"
      },
      "execution_count": 8,
      "outputs": [
        {
          "output_type": "stream",
          "name": "stdout",
          "text": [
            "375/375 [==============================] - 4s 10ms/step - loss: 0.4027 - accuracy: 0.9147\n",
            "Test loss: 0.40268024802207947, accuracy: 0.9146666526794434\n"
          ]
        }
      ]
    }
  ]
}