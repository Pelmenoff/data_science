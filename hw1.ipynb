{
  "nbformat": 4,
  "nbformat_minor": 0,
  "metadata": {
    "colab": {
      "provenance": []
    },
    "kernelspec": {
      "name": "python3",
      "display_name": "Python 3"
    },
    "language_info": {
      "name": "python"
    }
  },
  "cells": [
    {
      "cell_type": "code",
      "execution_count": 2,
      "metadata": {
        "id": "mYoYjTJguOQG"
      },
      "outputs": [],
      "source": [
        "import numpy as np"
      ]
    },
    {
      "cell_type": "code",
      "source": [
        "vector = np.arange(1, 11)\n",
        "print(\"1. Одновимірний масив:\", vector)"
      ],
      "metadata": {
        "colab": {
          "base_uri": "https://localhost:8080/"
        },
        "id": "6biQaz7VvC0v",
        "outputId": "366963cc-94ff-4267-bd7f-d91cd2bf57d5"
      },
      "execution_count": 3,
      "outputs": [
        {
          "output_type": "stream",
          "name": "stdout",
          "text": [
            "1. Одновимірний масив: [ 1  2  3  4  5  6  7  8  9 10]\n"
          ]
        }
      ]
    },
    {
      "cell_type": "code",
      "source": [
        "matrix_zeros = np.zeros((3, 3))\n",
        "print(\"\\n2. Двовимірний масив (нулі):\", matrix_zeros)"
      ],
      "metadata": {
        "colab": {
          "base_uri": "https://localhost:8080/"
        },
        "id": "_DVP87zGvMuR",
        "outputId": "0ec393eb-7370-4ab1-dd7b-ee6036fae55c"
      },
      "execution_count": 4,
      "outputs": [
        {
          "output_type": "stream",
          "name": "stdout",
          "text": [
            "\n",
            "2. Двовимірний масив (нулі): [[0. 0. 0.]\n",
            " [0. 0. 0.]\n",
            " [0. 0. 0.]]\n"
          ]
        }
      ]
    },
    {
      "cell_type": "code",
      "source": [
        "matrix_random_int = np.random.randint(1, 11, size=(5, 5))\n",
        "print(\"\\n3. Масив 5x5 з випадковими цілими числами:\", matrix_random_int)"
      ],
      "metadata": {
        "colab": {
          "base_uri": "https://localhost:8080/"
        },
        "id": "T0EjlmDSvQJY",
        "outputId": "98cc085e-8f8b-4a5d-cd01-6ebfa262f3a0"
      },
      "execution_count": 5,
      "outputs": [
        {
          "output_type": "stream",
          "name": "stdout",
          "text": [
            "\n",
            "3. Масив 5x5 з випадковими цілими числами: [[ 2  1  4  3 10]\n",
            " [ 1  1  2  7  7]\n",
            " [ 3  8  6  6  1]\n",
            " [ 8  5 10  4  1]\n",
            " [ 5  1  1  8  7]]\n"
          ]
        }
      ]
    },
    {
      "cell_type": "code",
      "source": [
        "matrix_random_float = np.random.rand(4, 4)\n",
        "print(\"\\n4. Масив 4x4 з випадковими дійсними числами:\", matrix_random_float)"
      ],
      "metadata": {
        "colab": {
          "base_uri": "https://localhost:8080/"
        },
        "id": "mkDkdmE3vSZj",
        "outputId": "c22e558c-23e6-4522-d0a7-97821dd9735f"
      },
      "execution_count": 6,
      "outputs": [
        {
          "output_type": "stream",
          "name": "stdout",
          "text": [
            "\n",
            "4. Масив 4x4 з випадковими дійсними числами: [[0.64324174 0.42313799 0.50823413 0.35354621]\n",
            " [0.01368994 0.95526215 0.82948308 0.29075988]\n",
            " [0.56061069 0.8738373  0.96672494 0.39058926]\n",
            " [0.33903065 0.30021349 0.05137391 0.12825617]]\n"
          ]
        }
      ]
    },
    {
      "cell_type": "code",
      "source": [
        "array1 = np.random.randint(1, 11, size=5)\n",
        "array2 = np.random.randint(1, 11, size=5)\n",
        "\n",
        "addition_result = array1 + array2\n",
        "subtraction_result = array1 - array2\n",
        "multiplication_result = array1 * array2\n",
        "print(\"\\n5. Додавання:\", addition_result)\n",
        "print(\"   Віднімання:\", subtraction_result)\n",
        "print(\"   Множення:\", multiplication_result)"
      ],
      "metadata": {
        "colab": {
          "base_uri": "https://localhost:8080/"
        },
        "id": "DPPuCq-dvVRL",
        "outputId": "69a5fa90-0abb-4e71-df6e-f8a047919b92"
      },
      "execution_count": 7,
      "outputs": [
        {
          "output_type": "stream",
          "name": "stdout",
          "text": [
            "\n",
            "5. Додавання: [ 8 14 12  9  7]\n",
            "   Віднімання: [-6 -4 -6  7  3]\n",
            "   Множення: [ 7 45 27  8 10]\n"
          ]
        }
      ]
    },
    {
      "cell_type": "code",
      "source": [
        "vector1 = np.random.rand(7)\n",
        "vector2 = np.random.rand(7)\n",
        "dot_product = np.dot(vector1, vector2)\n",
        "print(\"\\n6. Скалярний добуток двох векторів:\", dot_product)"
      ],
      "metadata": {
        "colab": {
          "base_uri": "https://localhost:8080/"
        },
        "id": "ElD4lWPtvWmJ",
        "outputId": "342cda57-40a8-4f0f-8d3c-3d5f4fd952d2"
      },
      "execution_count": 8,
      "outputs": [
        {
          "output_type": "stream",
          "name": "stdout",
          "text": [
            "\n",
            "6. Скалярний добуток двох векторів: 1.819064022899469\n"
          ]
        }
      ]
    },
    {
      "cell_type": "code",
      "source": [
        "matrix_2x2_1 = np.random.randint(1, 11, size=(2, 2))\n",
        "matrix_2x2_2 = np.random.randint(1, 11, size=(2, 3))\n",
        "matrix_multiply_result = np.dot(matrix_2x2_1, matrix_2x2_2)\n",
        "print(\"\\n7. Перемноження матриць 2x2 та 2x3:\", matrix_multiply_result)"
      ],
      "metadata": {
        "colab": {
          "base_uri": "https://localhost:8080/"
        },
        "id": "Yufl83ClvYHB",
        "outputId": "1ce785a9-c15e-47e0-afe9-4239e8f9b130"
      },
      "execution_count": 9,
      "outputs": [
        {
          "output_type": "stream",
          "name": "stdout",
          "text": [
            "\n",
            "7. Перемноження матриць 2x2 та 2x3: [[117  96  51]\n",
            " [ 57  42  33]]\n"
          ]
        }
      ]
    },
    {
      "cell_type": "code",
      "source": [
        "matrix_3x3 = np.random.randint(1, 11, size=(3, 3))\n",
        "inverse_matrix = np.linalg.inv(matrix_3x3)\n",
        "print(\"\\n8. Обернена матриця 3x3:\", inverse_matrix)"
      ],
      "metadata": {
        "colab": {
          "base_uri": "https://localhost:8080/"
        },
        "id": "Tua0yfRGvZdv",
        "outputId": "ec9971dc-e462-404b-f868-8fb5250b0fa3"
      },
      "execution_count": 10,
      "outputs": [
        {
          "output_type": "stream",
          "name": "stdout",
          "text": [
            "\n",
            "8. Обернена матриця 3x3: [[ 0.37037037 -0.11111111 -0.03703704]\n",
            " [-0.16666667  0.          0.16666667]\n",
            " [-0.04938272  0.14814815 -0.0617284 ]]\n"
          ]
        }
      ]
    },
    {
      "cell_type": "code",
      "source": [
        "matrix_4x4 = np.random.rand(4, 4)\n",
        "transposed_matrix = np.transpose(matrix_4x4)\n",
        "print(\"\\n9. Транспонована матриця 4x4:\", transposed_matrix)"
      ],
      "metadata": {
        "colab": {
          "base_uri": "https://localhost:8080/"
        },
        "id": "suR_SQ9ovbFI",
        "outputId": "846f93a8-0dd9-48a2-95e4-79bfed33c644"
      },
      "execution_count": 11,
      "outputs": [
        {
          "output_type": "stream",
          "name": "stdout",
          "text": [
            "\n",
            "9. Транспонована матриця 4x4: [[0.44900363 0.86546212 0.14037335 0.63555107]\n",
            " [0.82294866 0.92462523 0.18588324 0.27034045]\n",
            " [0.05530257 0.35647359 0.38362775 0.86054247]\n",
            " [0.17920209 0.78411963 0.87592525 0.48837733]]\n"
          ]
        }
      ]
    },
    {
      "cell_type": "code",
      "source": [
        "matrix_3x4 = np.random.randint(1, 11, size=(3, 4))\n",
        "vector_4 = np.random.randint(1, 11, size=4)\n",
        "result_matrix_vector_multiply = np.dot(matrix_3x4, vector_4)\n",
        "print(\"\\n10. Перемноження матриці 3x4 на вектор розміром 4:\", result_matrix_vector_multiply)"
      ],
      "metadata": {
        "colab": {
          "base_uri": "https://localhost:8080/"
        },
        "id": "Rkw2Vw8ovcpo",
        "outputId": "57c76612-98ef-42d5-eb61-dca37eba7ac2"
      },
      "execution_count": 12,
      "outputs": [
        {
          "output_type": "stream",
          "name": "stdout",
          "text": [
            "\n",
            "10. Перемноження матриці 3x4 на вектор розміром 4: [115 121 126]\n"
          ]
        }
      ]
    },
    {
      "cell_type": "code",
      "source": [
        "matrix_2x3 = np.random.rand(2, 3)\n",
        "vector_3 = np.random.rand(3)\n",
        "result_matrix_vector_multiply_2 = np.dot(matrix_2x3, vector_3)\n",
        "print(\"\\n11. Перемноження матриці 2x3 на вектор розміром 3:\", result_matrix_vector_multiply_2)"
      ],
      "metadata": {
        "colab": {
          "base_uri": "https://localhost:8080/"
        },
        "id": "GkCxemXSveW4",
        "outputId": "ad65a9d0-010b-4781-d1ee-be329f27a96e"
      },
      "execution_count": 13,
      "outputs": [
        {
          "output_type": "stream",
          "name": "stdout",
          "text": [
            "\n",
            "11. Перемноження матриці 2x3 на вектор розміром 3: [0.83577797 0.16607278]\n"
          ]
        }
      ]
    },
    {
      "cell_type": "code",
      "source": [
        "matrix_elementwise_multiply_1 = np.random.randint(1, 11, size=(2, 2))\n",
        "matrix_elementwise_multiply_2 = np.random.randint(1, 11, size=(2, 2))\n",
        "result_elementwise_multiply = np.multiply(matrix_elementwise_multiply_1, matrix_elementwise_multiply_2)\n",
        "print(\"\\n12. Поелементне множення двох матриць 2x2:\", result_elementwise_multiply)"
      ],
      "metadata": {
        "colab": {
          "base_uri": "https://localhost:8080/"
        },
        "id": "25goKIz7vf7A",
        "outputId": "1ecc2c23-37a8-4ae0-fef8-a40cfd6fcf9d"
      },
      "execution_count": 14,
      "outputs": [
        {
          "output_type": "stream",
          "name": "stdout",
          "text": [
            "\n",
            "12. Поелементне множення двох матриць 2x2: [[63 15]\n",
            " [30 64]]\n"
          ]
        }
      ]
    },
    {
      "cell_type": "code",
      "source": [
        "matrix_multiply_2x2_1 = np.random.randint(1, 11, size=(2, 2))\n",
        "matrix_multiply_2x2_2 = np.random.randint(1, 11, size=(2, 2))\n",
        "result_matrix_multiply = np.dot(matrix_multiply_2x2_1, matrix_multiply_2x2_2)\n",
        "print(\"\\n13. Матричне множення двох матриць 2x2:\", result_matrix_multiply)"
      ],
      "metadata": {
        "colab": {
          "base_uri": "https://localhost:8080/"
        },
        "id": "P-7MEBTavhaW",
        "outputId": "485a30ee-1573-487f-e987-8de8da9de16b"
      },
      "execution_count": 15,
      "outputs": [
        {
          "output_type": "stream",
          "name": "stdout",
          "text": [
            "\n",
            "13. Матричне множення двох матриць 2x2: [[84 52]\n",
            " [95 52]]\n"
          ]
        }
      ]
    },
    {
      "cell_type": "code",
      "source": [
        "matrix_5x5_sum = np.random.randint(1, 101, size=(5, 5))\n",
        "sum_of_matrix_elements = np.sum(matrix_5x5_sum)\n",
        "print(\"\\n14. Сума елементів матриці 5x5:\", sum_of_matrix_elements)"
      ],
      "metadata": {
        "colab": {
          "base_uri": "https://localhost:8080/"
        },
        "id": "rmXXnqpsviu7",
        "outputId": "6664a7f8-eefd-466a-c9a7-3a35d43d2246"
      },
      "execution_count": 16,
      "outputs": [
        {
          "output_type": "stream",
          "name": "stdout",
          "text": [
            "\n",
            "14. Сума елементів матриці 5x5: 1309\n"
          ]
        }
      ]
    },
    {
      "cell_type": "code",
      "source": [
        "matrix_4x4_1 = np.random.randint(1, 11, size=(4, 4))\n",
        "matrix_4x4_2 = np.random.randint(1, 11, size=(4, 4))\n",
        "matrix_difference = np.subtract(matrix_4x4_1, matrix_4x4_2)\n",
        "print(\"\\n15. Різниця двох матриць 4x4:\", matrix_difference)"
      ],
      "metadata": {
        "colab": {
          "base_uri": "https://localhost:8080/"
        },
        "id": "eeeSgTTdvkHd",
        "outputId": "b4520a7b-b81d-4ce3-ab0e-c1a0b757ed86"
      },
      "execution_count": 17,
      "outputs": [
        {
          "output_type": "stream",
          "name": "stdout",
          "text": [
            "\n",
            "15. Різниця двох матриць 4x4: [[ 0 -2 -4 -5]\n",
            " [-3 -3  6  0]\n",
            " [ 2 -1 -6 -1]\n",
            " [ 7 -1  4  3]]\n"
          ]
        }
      ]
    },
    {
      "cell_type": "code",
      "source": [
        "matrix_3x3_sum = np.random.rand(3, 3)\n",
        "vector_column_sum = np.sum(matrix_3x3_sum, axis=1)\n",
        "print(\"\\n16. Вектор-стовпчик з сумами елементів кожного рядка матриці 3x3:\", vector_column_sum)"
      ],
      "metadata": {
        "colab": {
          "base_uri": "https://localhost:8080/"
        },
        "id": "TGWIRQOJvmDz",
        "outputId": "462d5102-443b-444f-911f-b04714ef2b11"
      },
      "execution_count": 18,
      "outputs": [
        {
          "output_type": "stream",
          "name": "stdout",
          "text": [
            "\n",
            "16. Вектор-стовпчик з сумами елементів кожного рядка матриці 3x3: [0.38141548 1.37210707 1.98066031]\n"
          ]
        }
      ]
    },
    {
      "cell_type": "code",
      "source": [
        "matrix_3x4_squares = np.random.randint(1, 11, size=(3, 4))\n",
        "matrix_squares = np.square(matrix_3x4_squares)\n",
        "print(\"\\n17. Матриця квадратів чисел з ініційальної матриці 3x4:\", matrix_squares)"
      ],
      "metadata": {
        "colab": {
          "base_uri": "https://localhost:8080/"
        },
        "id": "oEKuMQn9vq9c",
        "outputId": "68233cda-77ba-4344-c892-cd5050a3561d"
      },
      "execution_count": 19,
      "outputs": [
        {
          "output_type": "stream",
          "name": "stdout",
          "text": [
            "\n",
            "17. Матриця квадратів чисел з ініційальної матриці 3x4: [[49  4 49 64]\n",
            " [16 64 16 25]\n",
            " [ 9 49 36 25]]\n"
          ]
        }
      ]
    },
    {
      "cell_type": "code",
      "source": [
        "vector_sqrt = np.random.randint(1, 51, size=4)\n",
        "vector_sqrt_result = np.sqrt(vector_sqrt)\n",
        "print(\"\\n18. Вектор з квадратними коренями чисел:\", vector_sqrt_result)"
      ],
      "metadata": {
        "colab": {
          "base_uri": "https://localhost:8080/"
        },
        "id": "4mTE_Of8vstv",
        "outputId": "ecade030-a475-423b-f822-6d12f3b314eb"
      },
      "execution_count": 20,
      "outputs": [
        {
          "output_type": "stream",
          "name": "stdout",
          "text": [
            "\n",
            "18. Вектор з квадратними коренями чисел: [1.73205081 7.07106781 6.4807407  5.09901951]\n"
          ]
        }
      ]
    }
  ]
}